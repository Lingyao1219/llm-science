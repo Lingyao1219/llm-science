{
  "nbformat": 4,
  "nbformat_minor": 0,
  "metadata": {
    "colab": {
      "provenance": [],
      "gpuType": "T4"
    },
    "kernelspec": {
      "name": "python3",
      "display_name": "Python 3"
    },
    "language_info": {
      "name": "python"
    },
    "accelerator": "GPU"
  },
  "cells": [
    {
      "cell_type": "code",
      "source": [
        "!pip install networkit"
      ],
      "metadata": {
        "colab": {
          "base_uri": "https://localhost:8080/"
        },
        "id": "gyJ9D7QLxqll",
        "outputId": "6cba5457-af39-4d54-d291-ddebd93463f1"
      },
      "execution_count": 1,
      "outputs": [
        {
          "output_type": "stream",
          "name": "stdout",
          "text": [
            "Collecting networkit\n",
            "  Downloading networkit-11.0-cp310-cp310-manylinux_2_17_x86_64.manylinux2014_x86_64.whl (13.7 MB)\n",
            "\u001b[2K     \u001b[90m━━━━━━━━━━━━━━━━━━━━━━━━━━━━━━━━━━━━━━━━\u001b[0m \u001b[32m13.7/13.7 MB\u001b[0m \u001b[31m8.0 MB/s\u001b[0m eta \u001b[36m0:00:00\u001b[0m\n",
            "\u001b[?25hRequirement already satisfied: scipy in /usr/local/lib/python3.10/dist-packages (from networkit) (1.11.4)\n",
            "Requirement already satisfied: numpy in /usr/local/lib/python3.10/dist-packages (from networkit) (1.25.2)\n",
            "Installing collected packages: networkit\n",
            "Successfully installed networkit-11.0\n"
          ]
        }
      ]
    },
    {
      "cell_type": "code",
      "source": [
        "!pip install powerlaw"
      ],
      "metadata": {
        "colab": {
          "base_uri": "https://localhost:8080/"
        },
        "id": "itleneVq57EJ",
        "outputId": "32906fe4-2b0f-49d6-e27f-a38d39bc9796"
      },
      "execution_count": 2,
      "outputs": [
        {
          "output_type": "stream",
          "name": "stdout",
          "text": [
            "Collecting powerlaw\n",
            "  Downloading powerlaw-1.5-py3-none-any.whl (24 kB)\n",
            "Requirement already satisfied: scipy in /usr/local/lib/python3.10/dist-packages (from powerlaw) (1.11.4)\n",
            "Requirement already satisfied: numpy in /usr/local/lib/python3.10/dist-packages (from powerlaw) (1.25.2)\n",
            "Requirement already satisfied: matplotlib in /usr/local/lib/python3.10/dist-packages (from powerlaw) (3.7.1)\n",
            "Requirement already satisfied: mpmath in /usr/local/lib/python3.10/dist-packages (from powerlaw) (1.3.0)\n",
            "Requirement already satisfied: contourpy>=1.0.1 in /usr/local/lib/python3.10/dist-packages (from matplotlib->powerlaw) (1.2.1)\n",
            "Requirement already satisfied: cycler>=0.10 in /usr/local/lib/python3.10/dist-packages (from matplotlib->powerlaw) (0.12.1)\n",
            "Requirement already satisfied: fonttools>=4.22.0 in /usr/local/lib/python3.10/dist-packages (from matplotlib->powerlaw) (4.53.1)\n",
            "Requirement already satisfied: kiwisolver>=1.0.1 in /usr/local/lib/python3.10/dist-packages (from matplotlib->powerlaw) (1.4.5)\n",
            "Requirement already satisfied: packaging>=20.0 in /usr/local/lib/python3.10/dist-packages (from matplotlib->powerlaw) (24.1)\n",
            "Requirement already satisfied: pillow>=6.2.0 in /usr/local/lib/python3.10/dist-packages (from matplotlib->powerlaw) (9.4.0)\n",
            "Requirement already satisfied: pyparsing>=2.3.1 in /usr/local/lib/python3.10/dist-packages (from matplotlib->powerlaw) (3.1.2)\n",
            "Requirement already satisfied: python-dateutil>=2.7 in /usr/local/lib/python3.10/dist-packages (from matplotlib->powerlaw) (2.8.2)\n",
            "Requirement already satisfied: six>=1.5 in /usr/local/lib/python3.10/dist-packages (from python-dateutil>=2.7->matplotlib->powerlaw) (1.16.0)\n",
            "Installing collected packages: powerlaw\n",
            "Successfully installed powerlaw-1.5\n"
          ]
        }
      ]
    },
    {
      "cell_type": "code",
      "execution_count": 3,
      "metadata": {
        "colab": {
          "base_uri": "https://localhost:8080/",
          "height": 17
        },
        "id": "XHzY7PPHukKz",
        "outputId": "7d07078c-a050-492b-a9fb-001f636c5b52"
      },
      "outputs": [
        {
          "output_type": "display_data",
          "data": {
            "text/html": [
              "\n",
              "\t\t\t<script type=\"text/javascript\">\n",
              "\t\t\t<!--\n",
              "\t\t\t\t\n",
              "\t\t\t{\n",
              "\t\t\t\tvar element = document.getElementById('NetworKit_script');\n",
              "\t\t\t\tif (element) {\n",
              "\t\t\t\t\telement.parentNode.removeChild(element);\n",
              "\t\t\t\t}\n",
              "\t\t\t\telement = document.createElement('script');\n",
              "\t\t\t\telement.type = 'text/javascript';\n",
              "\t\t\t\telement.innerHTML = 'function NetworKit_pageEmbed(id) { var i, j; var elements; elements = document.getElementById(id).getElementsByClassName(\"Plot\"); for (i=0; i<elements.length; i++) { elements[i].id = id + \"_Plot_\" + i; var data = elements[i].getAttribute(\"data-image\").split(\"|\"); elements[i].removeAttribute(\"data-image\"); var content = \"<div class=\\\\\"Image\\\\\" id=\\\\\"\" + elements[i].id + \"_Image\\\\\" />\"; elements[i].innerHTML = content; elements[i].setAttribute(\"data-image-index\", 0); elements[i].setAttribute(\"data-image-length\", data.length); for (j=0; j<data.length; j++) { elements[i].setAttribute(\"data-image-\" + j, data[j]); } NetworKit_plotUpdate(elements[i]); elements[i].onclick = function (e) { NetworKit_overlayShow((e.target) ? e.target : e.srcElement); } } elements = document.getElementById(id).getElementsByClassName(\"HeatCell\"); for (i=0; i<elements.length; i++) { var data = parseFloat(elements[i].getAttribute(\"data-heat\")); var color = \"#00FF00\"; if (data <= 1 && data > 0) { color = \"hsla(0, 100%, 75%, \" + (data) + \")\"; } else if (data <= 0 && data >= -1) { color = \"hsla(240, 100%, 75%, \" + (-data) + \")\"; } elements[i].style.backgroundColor = color; } elements = document.getElementById(id).getElementsByClassName(\"Details\"); for (i=0; i<elements.length; i++) { elements[i].setAttribute(\"data-title\", \"-\"); NetworKit_toggleDetails(elements[i]); elements[i].onclick = function (e) { NetworKit_toggleDetails((e.target) ? e.target : e.srcElement); } } elements = document.getElementById(id).getElementsByClassName(\"MathValue\"); for (i=elements.length-1; i>=0; i--) { value = elements[i].innerHTML.trim(); if (value === \"nan\") { elements[i].parentNode.innerHTML = \"\" } } elements = document.getElementById(id).getElementsByClassName(\"SubCategory\"); for (i=elements.length-1; i>=0; i--) { value = elements[i].innerHTML.trim(); if (value === \"\") { elements[i].parentNode.removeChild(elements[i]) } } elements = document.getElementById(id).getElementsByClassName(\"Category\"); for (i=elements.length-1; i>=0; i--) { value = elements[i].innerHTML.trim(); if (value === \"\") { elements[i].parentNode.removeChild(elements[i]) } } var isFirefox = false; try { isFirefox = typeof InstallTrigger !== \"undefined\"; } catch (e) {} if (!isFirefox) { alert(\"Currently the function\\'s output is only fully supported by Firefox.\"); } } function NetworKit_plotUpdate(source) { var index = source.getAttribute(\"data-image-index\"); var data = source.getAttribute(\"data-image-\" + index); var image = document.getElementById(source.id + \"_Image\"); image.style.backgroundImage = \"url(\" + data + \")\"; } function NetworKit_showElement(id, show) { var element = document.getElementById(id); element.style.display = (show) ? \"block\" : \"none\"; } function NetworKit_overlayShow(source) { NetworKit_overlayUpdate(source); NetworKit_showElement(\"NetworKit_Overlay\", true); } function NetworKit_overlayUpdate(source) { document.getElementById(\"NetworKit_Overlay_Title\").innerHTML = source.title; var index = source.getAttribute(\"data-image-index\"); var data = source.getAttribute(\"data-image-\" + index); var image = document.getElementById(\"NetworKit_Overlay_Image\"); image.setAttribute(\"data-id\", source.id); image.style.backgroundImage = \"url(\" + data + \")\"; var link = document.getElementById(\"NetworKit_Overlay_Toolbar_Bottom_Save\"); link.href = data; link.download = source.title + \".svg\"; } function NetworKit_overlayImageShift(delta) { var image = document.getElementById(\"NetworKit_Overlay_Image\"); var source = document.getElementById(image.getAttribute(\"data-id\")); var index = parseInt(source.getAttribute(\"data-image-index\")); var length = parseInt(source.getAttribute(\"data-image-length\")); var index = (index+delta) % length; if (index < 0) { index = length + index; } source.setAttribute(\"data-image-index\", index); NetworKit_overlayUpdate(source); } function NetworKit_toggleDetails(source) { var childs = source.children; var show = false; if (source.getAttribute(\"data-title\") == \"-\") { source.setAttribute(\"data-title\", \"+\"); show = false; } else { source.setAttribute(\"data-title\", \"-\"); show = true; } for (i=0; i<childs.length; i++) { if (show) { childs[i].style.display = \"block\"; } else { childs[i].style.display = \"none\"; } } }';\n",
              "\t\t\t\telement.setAttribute('id', 'NetworKit_script');\n",
              "\t\t\t\tdocument.head.appendChild(element);\n",
              "\t\t\t}\n",
              "\t\t\n",
              "\t\t\t\t\n",
              "\t\t\t{\n",
              "\t\t\t\tvar element = document.getElementById('NetworKit_style');\n",
              "\t\t\t\tif (element) {\n",
              "\t\t\t\t\telement.parentNode.removeChild(element);\n",
              "\t\t\t\t}\n",
              "\t\t\t\telement = document.createElement('style');\n",
              "\t\t\t\telement.type = 'text/css';\n",
              "\t\t\t\telement.innerHTML = '.NetworKit_Page { font-family: Arial, Helvetica, sans-serif; font-size: 14px; } .NetworKit_Page .Value:before { font-family: Arial, Helvetica, sans-serif; font-size: 1.05em; content: attr(data-title) \":\"; margin-left: -2.5em; padding-right: 0.5em; } .NetworKit_Page .Details .Value:before { display: block; } .NetworKit_Page .Value { font-family: monospace; white-space: pre; padding-left: 2.5em; white-space: -moz-pre-wrap !important; white-space: -pre-wrap; white-space: -o-pre-wrap; white-space: pre-wrap; word-wrap: break-word; tab-size: 4; -moz-tab-size: 4; } .NetworKit_Page .Category { clear: both; padding-left: 1em; margin-bottom: 1.5em; } .NetworKit_Page .Category:before { content: attr(data-title); font-size: 1.75em; display: block; margin-left: -0.8em; margin-bottom: 0.5em; } .NetworKit_Page .SubCategory { margin-bottom: 1.5em; padding-left: 1em; } .NetworKit_Page .SubCategory:before { font-size: 1.6em; display: block; margin-left: -0.8em; margin-bottom: 0.5em; } .NetworKit_Page .SubCategory[data-title]:before { content: attr(data-title); } .NetworKit_Page .Block { display: block; } .NetworKit_Page .Block:after { content: \".\"; visibility: hidden; display: block; height: 0; clear: both; } .NetworKit_Page .Block .Thumbnail_Overview, .NetworKit_Page .Block .Thumbnail_ScatterPlot { width: 260px; float: left; } .NetworKit_Page .Block .Thumbnail_Overview img, .NetworKit_Page .Block .Thumbnail_ScatterPlot img { width: 260px; } .NetworKit_Page .Block .Thumbnail_Overview:before, .NetworKit_Page .Block .Thumbnail_ScatterPlot:before { display: block; text-align: center; font-weight: bold; } .NetworKit_Page .Block .Thumbnail_Overview:before { content: attr(data-title); } .NetworKit_Page .HeatCell { font-family: \"Courier New\", Courier, monospace; cursor: pointer; } .NetworKit_Page .HeatCell, .NetworKit_Page .HeatCellName { display: inline; padding: 0.1em; margin-right: 2px; background-color: #FFFFFF } .NetworKit_Page .HeatCellName { margin-left: 0.25em; } .NetworKit_Page .HeatCell:before { content: attr(data-heat); display: inline-block; color: #000000; width: 4em; text-align: center; } .NetworKit_Page .Measure { clear: both; } .NetworKit_Page .Measure .Details { cursor: pointer; } .NetworKit_Page .Measure .Details:before { content: \"[\" attr(data-title) \"]\"; display: block; } .NetworKit_Page .Measure .Details .Value { border-left: 1px dotted black; margin-left: 0.4em; padding-left: 3.5em; pointer-events: none; } .NetworKit_Page .Measure .Details .Spacer:before { content: \".\"; opacity: 0.0; pointer-events: none; } .NetworKit_Page .Measure .Plot { width: 440px; height: 440px; cursor: pointer; float: left; margin-left: -0.9em; margin-right: 20px; } .NetworKit_Page .Measure .Plot .Image { background-repeat: no-repeat; background-position: center center; background-size: contain; height: 100%; pointer-events: none; } .NetworKit_Page .Measure .Stat { width: 500px; float: left; } .NetworKit_Page .Measure .Stat .Group { padding-left: 1.25em; margin-bottom: 0.75em; } .NetworKit_Page .Measure .Stat .Group .Title { font-size: 1.1em; display: block; margin-bottom: 0.3em; margin-left: -0.75em; border-right-style: dotted; border-right-width: 1px; border-bottom-style: dotted; border-bottom-width: 1px; background-color: #D0D0D0; padding-left: 0.2em; } .NetworKit_Page .Measure .Stat .Group .List { -webkit-column-count: 3; -moz-column-count: 3; column-count: 3; } .NetworKit_Page .Measure .Stat .Group .List .Entry { position: relative; line-height: 1.75em; } .NetworKit_Page .Measure .Stat .Group .List .Entry[data-tooltip]:before { position: absolute; left: 0; top: -40px; background-color: #808080; color: #ffffff; height: 30px; line-height: 30px; border-radius: 5px; padding: 0 15px; content: attr(data-tooltip); white-space: nowrap; display: none; } .NetworKit_Page .Measure .Stat .Group .List .Entry[data-tooltip]:after { position: absolute; left: 15px; top: -10px; border-top: 7px solid #808080; border-left: 7px solid transparent; border-right: 7px solid transparent; content: \"\"; display: none; } .NetworKit_Page .Measure .Stat .Group .List .Entry[data-tooltip]:hover:after, .NetworKit_Page .Measure .Stat .Group .List .Entry[data-tooltip]:hover:before { display: block; } .NetworKit_Page .Measure .Stat .Group .List .Entry .MathValue { font-family: \"Courier New\", Courier, monospace; } .NetworKit_Page .Measure:after { content: \".\"; visibility: hidden; display: block; height: 0; clear: both; } .NetworKit_Page .PartitionPie { clear: both; } .NetworKit_Page .PartitionPie img { width: 600px; } #NetworKit_Overlay { left: 0px; top: 0px; display: none; position: absolute; width: 100%; height: 100%; background-color: rgba(0,0,0,0.6); z-index: 1000; } #NetworKit_Overlay_Title { position: absolute; color: white; transform: rotate(-90deg); width: 32em; height: 32em; padding-right: 0.5em; padding-top: 0.5em; text-align: right; font-size: 40px; } #NetworKit_Overlay .button { background: white; cursor: pointer; } #NetworKit_Overlay .button:before { size: 13px; display: inline-block; text-align: center; margin-top: 0.5em; margin-bottom: 0.5em; width: 1.5em; height: 1.5em; } #NetworKit_Overlay .icon-close:before { content: \"X\"; } #NetworKit_Overlay .icon-previous:before { content: \"P\"; } #NetworKit_Overlay .icon-next:before { content: \"N\"; } #NetworKit_Overlay .icon-save:before { content: \"S\"; } #NetworKit_Overlay_Toolbar_Top, #NetworKit_Overlay_Toolbar_Bottom { position: absolute; width: 40px; right: 13px; text-align: right; z-index: 1100; } #NetworKit_Overlay_Toolbar_Top { top: 0.5em; } #NetworKit_Overlay_Toolbar_Bottom { Bottom: 0.5em; } #NetworKit_Overlay_ImageContainer { position: absolute; top: 5%; left: 5%; height: 90%; width: 90%; background-repeat: no-repeat; background-position: center center; background-size: contain; } #NetworKit_Overlay_Image { height: 100%; width: 100%; background-repeat: no-repeat; background-position: center center; background-size: contain; }';\n",
              "\t\t\t\telement.setAttribute('id', 'NetworKit_style');\n",
              "\t\t\t\tdocument.head.appendChild(element);\n",
              "\t\t\t}\n",
              "\t\t\n",
              "\t\t\t\t\n",
              "\t\t\t{\n",
              "\t\t\t\tvar element = document.getElementById('NetworKit_Overlay');\n",
              "\t\t\t\tif (element) {\n",
              "\t\t\t\t\telement.parentNode.removeChild(element);\n",
              "\t\t\t\t}\n",
              "\t\t\t\telement = document.createElement('div');\n",
              "\t\t\t\telement.innerHTML = '<div id=\"NetworKit_Overlay_Toolbar_Top\"><div class=\"button icon-close\" id=\"NetworKit_Overlay_Close\" /></div><div id=\"NetworKit_Overlay_Title\" /> <div id=\"NetworKit_Overlay_ImageContainer\"> <div id=\"NetworKit_Overlay_Image\" /> </div> <div id=\"NetworKit_Overlay_Toolbar_Bottom\"> <div class=\"button icon-previous\" onclick=\"NetworKit_overlayImageShift(-1)\" /> <div class=\"button icon-next\" onclick=\"NetworKit_overlayImageShift(1)\" /> <a id=\"NetworKit_Overlay_Toolbar_Bottom_Save\"><div class=\"button icon-save\" /></a> </div>';\n",
              "\t\t\t\telement.setAttribute('id', 'NetworKit_Overlay');\n",
              "\t\t\t\tdocument.body.appendChild(element);\n",
              "\t\t\t\tdocument.getElementById('NetworKit_Overlay_Close').onclick = function (e) {\n",
              "\t\t\t\t\tdocument.getElementById('NetworKit_Overlay').style.display = 'none';\n",
              "\t\t\t\t}\n",
              "\t\t\t}\n",
              "\t\t\n",
              "\t\t\t-->\n",
              "\t\t\t</script>\n",
              "\t\t"
            ]
          },
          "metadata": {}
        }
      ],
      "source": [
        "import pandas as pd\n",
        "import networkx as nx\n",
        "import networkit as nk"
      ]
    },
    {
      "cell_type": "code",
      "source": [
        "from google.colab import drive\n",
        "drive.mount('/content/drive/')"
      ],
      "metadata": {
        "colab": {
          "base_uri": "https://localhost:8080/"
        },
        "id": "eL-wYzVJvGkr",
        "outputId": "6416d426-ee93-4d91-8589-06cac6ddcabe"
      },
      "execution_count": 4,
      "outputs": [
        {
          "output_type": "stream",
          "name": "stdout",
          "text": [
            "Mounted at /content/drive/\n"
          ]
        }
      ]
    },
    {
      "cell_type": "markdown",
      "source": [
        "## by Disciplines"
      ],
      "metadata": {
        "id": "2qoxr7GsB4Kc"
      }
    },
    {
      "cell_type": "code",
      "source": [
        "# Load the data from the file\n",
        "file_path = '/content/drive/MyDrive/Project - LLM science of science/data_network/affiliation_disciplines_entropy.xlsx'\n",
        "df = pd.read_excel(file_path)\n",
        "\n",
        "# Affiliation_disciplines is in a list format\n",
        "df['affiliation_disciplines'] = df['affiliation_departments'].apply(eval)\n",
        "\n",
        "# Create an edgelist\n",
        "edgelist = []\n",
        "for index, row in df.iterrows():\n",
        "    title = row['title']\n",
        "    disciplines = row['affiliation_disciplines']\n",
        "    for discipline in disciplines:\n",
        "        edgelist.append((title, discipline))\n",
        "\n",
        "# Convert the edgelist to a DataFrame\n",
        "edgelist_df = pd.DataFrame(edgelist, columns=['source', 'target'])\n",
        "\n",
        "# Save the edgelist to a CSV file\n",
        "edgelist_df.to_csv('/content/drive/MyDrive/Project - LLM science of science/data_network/affiliation_disciplines_entropy_edgelist.csv', index=False)\n",
        "\n",
        "print(\"Edgelist created and saved as 'edgelist.csv'.\")"
      ],
      "metadata": {
        "colab": {
          "base_uri": "https://localhost:8080/"
        },
        "id": "l5IgL_9NvLfX",
        "outputId": "650f44e3-488b-410f-d150-1cf80a005f01"
      },
      "execution_count": 5,
      "outputs": [
        {
          "output_type": "stream",
          "name": "stdout",
          "text": [
            "Edgelist created and saved as 'edgelist.csv'.\n"
          ]
        }
      ]
    },
    {
      "cell_type": "code",
      "source": [
        "# Map nodes to indices\n",
        "node_map = {}\n",
        "index = 0\n",
        "\n",
        "def get_node_index(node):\n",
        "    global index\n",
        "    if node not in node_map:\n",
        "        node_map[node] = index\n",
        "        index += 1\n",
        "    return node_map[node]\n",
        "\n",
        "# Determine the number of unique nodes\n",
        "num_nodes = len(set(edgelist_df['source']).union(set(edgelist_df['target'])))\n",
        "\n",
        "# Create a bipartite graph with the predefined number of nodes\n",
        "B = nk.graph.Graph(num_nodes, weighted=True, directed=False)\n",
        "\n",
        "# Add edges to the bipartite graph\n",
        "for _, row in edgelist_df.iterrows():\n",
        "    paper = get_node_index(row['source'])\n",
        "    discipline = get_node_index(row['target'])\n",
        "    B.addEdge(paper, discipline)"
      ],
      "metadata": {
        "id": "GzFFlxnkwi8J"
      },
      "execution_count": 6,
      "outputs": []
    },
    {
      "cell_type": "code",
      "source": [
        "### Create weighted projected graph\n",
        "\n",
        "# Collect disciplines\n",
        "disciplines = set()\n",
        "for _, row in edgelist_df.iterrows():\n",
        "    disciplines.add(row['target'])\n",
        "\n",
        "# Create a projection onto disciplines\n",
        "projected_graph = nk.graph.Graph(len(disciplines), weighted=True, directed=False)\n",
        "\n",
        "# Map disciplines to indices in the projected graph\n",
        "discipline_map = {disc: i for i, disc in enumerate(disciplines)}\n",
        "\n",
        "# Initialize a dictionary to hold the edge weights\n",
        "edge_weights = {}\n",
        "\n",
        "# Add edges between disciplines that share at least one paper, with weights\n",
        "for _, row in edgelist_df.iterrows():\n",
        "    paper = get_node_index(row['source'])\n",
        "    discipline = discipline_map[row['target']]\n",
        "    for neighbor in B.iterNeighbors(paper):\n",
        "        neighbor_discipline = None\n",
        "        for key, value in node_map.items():\n",
        "            if value == neighbor:\n",
        "                if key in disciplines:\n",
        "                    neighbor_discipline = discipline_map[key]\n",
        "                    break\n",
        "        if neighbor_discipline is not None and neighbor_discipline != discipline:\n",
        "            if (discipline, neighbor_discipline) in edge_weights:\n",
        "                edge_weights[(discipline, neighbor_discipline)] += 1\n",
        "            elif (neighbor_discipline, discipline) in edge_weights:\n",
        "                edge_weights[(neighbor_discipline, discipline)] += 1\n",
        "            else:\n",
        "                edge_weights[(discipline, neighbor_discipline)] = 1\n",
        "\n",
        "# Add edges with weights to the projected graph\n",
        "for (u, v), weight in edge_weights.items():\n",
        "    projected_graph.addEdge(u, v, weight)"
      ],
      "metadata": {
        "id": "M9tomC8S04Ln"
      },
      "execution_count": 7,
      "outputs": []
    },
    {
      "cell_type": "code",
      "source": [
        "import networkit as nk\n",
        "import networkx as nx\n",
        "from networkx.algorithms.community.modularity_max import greedy_modularity_communities\n",
        "import powerlaw\n",
        "import matplotlib.pyplot as plt\n",
        "\n",
        "# Convert Networkit graph to NetworkX graph\n",
        "def networkit_to_networkx(nk_graph):\n",
        "    nx_graph = nx.Graph()\n",
        "    for u in nk_graph.iterNodes():\n",
        "        nx_graph.add_node(u)\n",
        "    for u, v in nk_graph.iterEdges():\n",
        "        nx_graph.add_edge(u, v, weight=nk_graph.weight(u, v))\n",
        "    return nx_graph\n",
        "\n",
        "# Create projected graph\n",
        "projected_graph = nk.graph.Graph(len(disciplines), weighted=True, directed=False)\n",
        "for (u, v), weight in edge_weights.items():\n",
        "    projected_graph.addEdge(u, v, weight)\n",
        "\n",
        "# Convert projected graph to NetworkX graph\n",
        "nx_projected_graph = networkit_to_networkx(projected_graph)\n",
        "\n",
        "# Calculate degree centrality (considering weights)\n",
        "deg_centrality = nk.centrality.DegreeCentrality(projected_graph, ignoreSelfLoops=True)\n",
        "deg_centrality.run()\n",
        "degree_centrality_result = deg_centrality.ranking()\n",
        "\n",
        "# Calculate closeness centrality for each connected component\n",
        "components = nk.components.ConnectedComponents(projected_graph).run()\n",
        "closeness_centrality_result = []\n",
        "\n",
        "for component in components.getComponents():\n",
        "    subgraph = nk.graphtools.subgraphFromNodes(projected_graph, component)\n",
        "    closeness_centrality = nk.centrality.Closeness(subgraph, True, subgraph.upperNodeIdBound())\n",
        "    closeness_centrality.run()\n",
        "    closeness_centrality_result.extend(closeness_centrality.ranking())\n",
        "\n",
        "# Sort the combined results\n",
        "closeness_centrality_result.sort(key=lambda x: x[1], reverse=True)\n",
        "\n",
        "# Calculate betweenness centrality\n",
        "betweenness_centrality = nk.centrality.Betweenness(projected_graph, normalized=True)\n",
        "betweenness_centrality.run()\n",
        "betweenness_centrality_result = betweenness_centrality.ranking()\n",
        "\n",
        "# Calculate eigenvector centrality\n",
        "eigenvector_centrality = nk.centrality.EigenvectorCentrality(projected_graph)\n",
        "eigenvector_centrality.run()\n",
        "eigenvector_centrality_result = eigenvector_centrality.ranking()\n",
        "\n",
        "# Summarize the network\n",
        "num_nodes = projected_graph.numberOfNodes()\n",
        "num_edges = projected_graph.numberOfEdges()\n",
        "density = nk.graphtools.density(projected_graph)\n",
        "\n",
        "# Extract largest connected component\n",
        "largest_component = nk.components.ConnectedComponents.extractLargestConnectedComponent(projected_graph, True)\n",
        "\n",
        "# Calculate diameter of the largest component\n",
        "diam = nk.distance.Diameter(largest_component, algo=1)\n",
        "diam.run()\n",
        "diameter = diam.getDiameter()\n",
        "\n",
        "# Calculate average shortest path length for the largest component\n",
        "apsp = nk.distance.APSP(largest_component).run()\n",
        "distances = apsp.getDistances()\n",
        "\n",
        "total_distance = 0\n",
        "total_pairs = 0\n",
        "\n",
        "for row in distances:\n",
        "    for dist in row:\n",
        "        if dist < float('inf'):\n",
        "            total_distance += dist\n",
        "            total_pairs += 1\n",
        "\n",
        "avg_shortest_path_length = total_distance / total_pairs if total_pairs > 0 else float('inf')\n",
        "\n",
        "# Calculate clustering coefficient\n",
        "clustering_coefficient_result = nk.globals.clustering(projected_graph)\n",
        "\n",
        "num_components = components.numberOfComponents()\n",
        "largest_component_size = largest_component.numberOfNodes()\n",
        "\n",
        "# Calculate the degree distribution\n",
        "dc = nk.centrality.DegreeCentrality(projected_graph)\n",
        "dc.run()\n",
        "scores = dc.scores()\n",
        "\n",
        "# Fit the degree distribution to a power law using the powerlaw package\n",
        "fit = powerlaw.Fit(scores)\n",
        "power_law_value = fit.power_law.alpha\n",
        "\n",
        "# Plot the degree distribution (optional)\n",
        "degree_counts = {}\n",
        "for score in scores:\n",
        "    if score in degree_counts:\n",
        "        degree_counts[score] += 1\n",
        "    else:\n",
        "        degree_counts[score] = 1\n",
        "\n",
        "plt.bar(degree_counts.keys(), degree_counts.values())\n",
        "plt.xlabel('Degree Centrality')\n",
        "plt.ylabel('Frequency')\n",
        "plt.title('Distribution of Degree Centrality')\n",
        "plt.show()\n",
        "\n",
        "# Community detection using Clauset-Newman-Moore in NetworkX\n",
        "communities = greedy_modularity_communities(nx_projected_graph)\n",
        "num_communities_nx = len(communities)\n",
        "\n",
        "# Community detection using PLM in Networkit\n",
        "community_detector = nk.community.PLM(projected_graph)\n",
        "community_detector.run()\n",
        "num_communities_nk = len(community_detector.getPartition().getSubsetIds())\n",
        "\n",
        "# Print results\n",
        "print(\"Degree Centrality:\", degree_centrality_result[:10])  # Top 10 nodes\n",
        "print(\"Closeness Centrality:\", closeness_centrality_result[:10])  # Top 10 nodes\n",
        "print(\"Betweenness Centrality:\", betweenness_centrality_result[:10])  # Top 10 nodes\n",
        "print(\"Eigenvector Centrality:\", eigenvector_centrality_result[:10])  # Top 10 nodes\n",
        "\n",
        "print(\"Number of Nodes:\", num_nodes)\n",
        "print(\"Number of Edges:\", num_edges)\n",
        "print(\"Density:\", density)\n",
        "print(\"Diameter of Largest Component:\", diameter)\n",
        "print(\"Average Shortest Path Length:\", avg_shortest_path_length)\n",
        "print(\"Clustering Coefficient:\", clustering_coefficient_result)\n",
        "print(\"Number of Components:\", num_components)\n",
        "print(\"Size of Largest Component:\", largest_component_size)\n",
        "print(\"Power-law Exponent:\", power_law_value)\n",
        "print(\"Number of Communities (Networkit - PLM):\", num_communities_nk)\n",
        "print(\"Number of Communities (NetworkX - Clauset-Newman-Moore):\", num_communities_nx)\n",
        "\n",
        "# Optionally convert indices back to node names for centrality measures\n",
        "reverse_discipline_map = {v: k for k, v in discipline_map.items()}\n",
        "degree_centrality_named = [(reverse_discipline_map[node], centrality) for node, centrality in degree_centrality_result]\n",
        "closeness_centrality_named = [(reverse_discipline_map[node], centrality) for node, centrality in closeness_centrality_result]\n",
        "betweenness_centrality_named = [(reverse_discipline_map[node], centrality) for node, centrality in betweenness_centrality_result]\n",
        "eigenvector_centrality_named = [(reverse_discipline_map[node], centrality) for node, centrality in eigenvector_centrality_result]\n",
        "\n",
        "print(\"Degree Centrality (Named):\", degree_centrality_named[:10])\n",
        "print(\"Closeness Centrality (Named):\", closeness_centrality_named[:10])\n",
        "print(\"Betweenness Centrality (Named):\", betweenness_centrality_named[:10])\n",
        "print(\"Eigenvector Centrality (Named):\", eigenvector_centrality_named[:10])\n"
      ],
      "metadata": {
        "id": "AyIpDkUo0AcO",
        "colab": {
          "base_uri": "https://localhost:8080/",
          "height": 856
        },
        "outputId": "151f8c6f-2c7c-4270-d2bf-78ca48639ee3"
      },
      "execution_count": 8,
      "outputs": [
        {
          "output_type": "stream",
          "name": "stderr",
          "text": [
            "Values less than or equal to 0 in data. Throwing out 0 or negative values\n"
          ]
        },
        {
          "output_type": "stream",
          "name": "stdout",
          "text": [
            "Calculating best minimal value for power law fit\n",
            "xmin progress: 00%\rxmin progress: 00%\rxmin progress: 01%\rxmin progress: 02%\rxmin progress: 03%\rxmin progress: 04%\rxmin progress: 05%\rxmin progress: 06%\rxmin progress: 07%\rxmin progress: 07%\rxmin progress: 08%\rxmin progress: 09%\rxmin progress: 10%\rxmin progress: 11%\rxmin progress: 12%\rxmin progress: 13%\rxmin progress: 14%\rxmin progress: 14%\rxmin progress: 15%\rxmin progress: 16%\rxmin progress: 17%\rxmin progress: 18%\rxmin progress: 19%\rxmin progress: 20%\rxmin progress: 21%\rxmin progress: 21%\rxmin progress: 22%\rxmin progress: 23%\rxmin progress: 24%\rxmin progress: 25%\rxmin progress: 26%\rxmin progress: 27%\rxmin progress: 28%\rxmin progress: 28%\rxmin progress: 29%\rxmin progress: 30%\rxmin progress: 31%\rxmin progress: 32%\rxmin progress: 33%\rxmin progress: 34%\rxmin progress: 35%\rxmin progress: 35%\rxmin progress: 36%\rxmin progress: 37%\rxmin progress: 38%\rxmin progress: 39%\rxmin progress: 40%\rxmin progress: 41%\rxmin progress: 42%\rxmin progress: 42%\rxmin progress: 43%\rxmin progress: 44%\rxmin progress: 45%\rxmin progress: 46%\rxmin progress: 47%\rxmin progress: 48%\rxmin progress: 49%\rxmin progress: 50%\rxmin progress: 50%\rxmin progress: 51%\rxmin progress: 52%\rxmin progress: 53%\rxmin progress: 54%\rxmin progress: 55%\rxmin progress: 56%\rxmin progress: 57%\rxmin progress: 57%\rxmin progress: 58%\rxmin progress: 59%\rxmin progress: 60%\rxmin progress: 61%\rxmin progress: 62%\rxmin progress: 63%\rxmin progress: 64%\rxmin progress: 64%\rxmin progress: 65%\rxmin progress: 66%\rxmin progress: 67%\rxmin progress: 68%\rxmin progress: 69%\rxmin progress: 70%\rxmin progress: 71%\rxmin progress: 71%\rxmin progress: 72%\rxmin progress: 73%\rxmin progress: 74%\rxmin progress: 75%\rxmin progress: 76%\rxmin progress: 77%\rxmin progress: 78%\rxmin progress: 78%\rxmin progress: 79%\rxmin progress: 80%\rxmin progress: 81%\rxmin progress: 82%\rxmin progress: 83%\rxmin progress: 84%\rxmin progress: 85%\rxmin progress: 85%\rxmin progress: 86%\rxmin progress: 87%\rxmin progress: 88%\rxmin progress: 89%\rxmin progress: 90%\rxmin progress: 91%\rxmin progress: 92%\rxmin progress: 92%\rxmin progress: 93%\rxmin progress: 94%\rxmin progress: 95%\rxmin progress: 96%\rxmin progress: 97%\rxmin progress: 98%\rxmin progress: 99%\r"
          ]
        },
        {
          "output_type": "display_data",
          "data": {
            "text/plain": [
              "<Figure size 640x480 with 1 Axes>"
            ],
            "image/png": "[encoded data removed]"
          },
          "metadata": {}
        },
        {
          "output_type": "stream",
          "name": "stdout",
          "text": [
            "Degree Centrality: [(856, 835.0), (5996, 518.0), (6248, 422.0), (3814, 289.0), (3556, 226.0), (1954, 223.0), (4602, 204.0), (4534, 196.0), (5598, 190.0), (5905, 190.0)]\n",
            "Closeness Centrality: [(89, 0.5), (1076, 0.5), (125, 0.5), (3422, 0.5), (147, 0.5), (3390, 0.5), (5738, 0.5), (170, 0.5), (509, 0.5), (6498, 0.5)]\n",
            "Betweenness Centrality: [(856, 0.08876706467107558), (6248, 0.03765408065312015), (5996, 0.03514842431715771), (4602, 0.033812629693229256), (3556, 0.03350521934763619), (3814, 0.030160828395166078), (4534, 0.024916590893126866), (5904, 0.023048993570624548), (1954, 0.02159079041152156), (3531, 0.021564454292477966)]\n",
            "Eigenvector Centrality: [(3306, 0.4460766697800469), (856, 0.4044578022023634), (5996, 0.37643240973702585), (1698, 0.29954560538935315), (2857, 0.2551303078817581), (6248, 0.2014788914090287), (1954, 0.13603714108733847), (5904, 0.12784525092887108), (842, 0.12763268210103978), (3814, 0.12296163352992957)]\n",
            "Number of Nodes: 6604\n",
            "Number of Edges: 16811\n",
            "Density: 0.0007710369339120766\n",
            "Diameter of Largest Component: (406, 0)\n",
            "Average Shortest Path Length: 16.608491412583465\n",
            "Clustering Coefficient: 0.750977156258143\n",
            "Number of Components: 1678\n",
            "Size of Largest Component: 4616\n",
            "Power-law Exponent: 2.3196209226476006\n",
            "Number of Communities (Networkit - PLM): 1730\n",
            "Number of Communities (NetworkX - Clauset-Newman-Moore): 1775\n",
            "Degree Centrality (Named): [('Computer Science', 835.0), ('Medicine', 518.0), ('Computer Science and Engineering', 422.0), ('Artificial Intelligence', 289.0), ('Engineering', 226.0), ('Computer Science and Technology', 223.0), ('Psychology', 204.0), ('Public Health', 196.0), ('Business', 190.0), ('Information Technology', 190.0)]\n",
            "Closeness Centrality (Named): [('Empirical Linguistics and Computational Language Modeling', 0.5), ('German Language.', 0.5), ('Information and Architecture', 0.5), ('Literature and Education', 0.5), ('Veterinary Public Health & Epidemiology', 0.5), ('Animal Genetics & Breeding', 0.5), ('Animal Biotechnology', 0.5), ('Pediatric Congenital Hematologic Disorders Research', 0.5), ('Hematology and Blood Banking', 0.5), ('Hydatid Disease', 0.5)]\n",
            "Betweenness Centrality (Named): [('Computer Science', 0.08876706467107558), ('Computer Science and Engineering', 0.03765408065312015), ('Medicine', 0.03514842431715771), ('Psychology', 0.033812629693229256), ('Engineering', 0.03350521934763619), ('Artificial Intelligence', 0.030160828395166078), ('Public Health', 0.024916590893126866), ('Informatics', 0.023048993570624548), ('Computer Science and Technology', 0.02159079041152156), ('Mathematics', 0.021564454292477966)]\n",
            "Eigenvector Centrality (Named): [('Biomedical Informatics', 0.4460766697800469), ('Computer Science', 0.4044578022023634), ('Medicine', 0.37643240973702585), ('Environmental Genomics and Systems Biology', 0.29954560538935315), ('Bioinformatics', 0.2551303078817581), ('Computer Science and Engineering', 0.2014788914090287), ('Computer Science and Technology', 0.13603714108733847), ('Informatics', 0.12784525092887108), ('Biomedical Data Science', 0.12763268210103978), ('Artificial Intelligence', 0.12296163352992957)]\n"
          ]
        }
      ]
    },
    {
      "cell_type": "code",
      "source": [
        "# Save the projected graph as a CSV file\n",
        "edges = []\n",
        "for u in range(projected_graph.numberOfNodes()):\n",
        "    for v in projected_graph.iterNeighbors(u):\n",
        "        weight = projected_graph.weight(u, v)\n",
        "        edges.append([reverse_discipline_map[u], reverse_discipline_map[v], weight])\n",
        "\n",
        "projected_disciplines_edgelist = pd.DataFrame(edges, columns=['source', 'target', 'weight'])\n",
        "projected_disciplines_edgelist.to_csv('/content/drive/MyDrive/Project - LLM science of science/data_network/disciplines_projected_edgelist.csv', index=False)\n",
        "\n",
        "print(\"Projected graph saved as 'projected_graph.csv'.\")"
      ],
      "metadata": {
        "colab": {
          "base_uri": "https://localhost:8080/"
        },
        "id": "fYW03Ci66cZM",
        "outputId": "79d63f1b-96b0-4b87-9482-5fe703e3a461"
      },
      "execution_count": 9,
      "outputs": [
        {
          "output_type": "stream",
          "name": "stdout",
          "text": [
            "Projected graph saved as 'projected_graph.csv'.\n"
          ]
        }
      ]
    },
    {
      "cell_type": "code",
      "source": [
        "from collections import Counter\n",
        "\n",
        "file_path = '/content/drive/MyDrive/Project - LLM science of science/data_network/disciplines_projected_edgelist.csv'\n",
        "projected_df = pd.read_csv(file_path)\n",
        "\n",
        "# Create a weighted graph from the dataframe\n",
        "G = nx.from_pandas_edgelist(projected_df, 'source', 'target', ['weight'])\n",
        "\n",
        "# List of nodes directly connected to Computer Science\n",
        "CS_connected_nodes = list(G.neighbors('Computer Science'))\n",
        "print('Disciplines connected to Computer Science:')\n",
        "print(CS_connected_nodes)\n",
        "\n",
        "# Analyze Computer Science as an intermediary\n",
        "intermediary_connections = []\n",
        "\n",
        "for node in CS_connected_nodes:\n",
        "    for connected_node in G.neighbors(node):\n",
        "        if connected_node != 'Computer Science' and connected_node not in CS_connected_nodes:\n",
        "            weight = G[node][connected_node]['weight'] if 'weight' in G[node][connected_node] else 1\n",
        "            intermediary_connections.append((node, connected_node, weight))\n",
        "\n",
        "# Count frequency of intermediary connections considering weights\n",
        "intermediary_counter = Counter()\n",
        "for node, connected_node, weight in intermediary_connections:\n",
        "    intermediary_counter[(node, connected_node)] += weight\n",
        "\n",
        "# Prepare the data for the CSV file\n",
        "intermediary_data = [{'Connection': f'{connection[0]} - {connection[1]}', 'Frequency': freq} for connection, freq in intermediary_counter.items()]\n",
        "\n",
        "# Create a DataFrame and save to CSV\n",
        "intermediary_df = pd.DataFrame(intermediary_data)\n",
        "intermediary_df.to_csv('CS_intermediary_connections.csv', index=False)"
      ],
      "metadata": {
        "colab": {
          "base_uri": "https://localhost:8080/"
        },
        "id": "F0mHZrG2fH9K",
        "outputId": "815b3f43-7d43-4b87-b305-6c71367490bf"
      },
      "execution_count": 10,
      "outputs": [
        {
          "output_type": "stream",
          "name": "stdout",
          "text": [
            "Disciplines connected to Computer Science:\n",
            "['Neurology', 'Geospatial Data Science', 'English', 'Computer Science & Information Engineering', 'Chemistry', 'Natural Language Processing', 'Chinese Information Processing', 'Scientific Research', 'Pathology and Immunology', 'Interaction', 'Chemical Technology', 'Electronic and Computer Engineering', 'Telecommunication Systems Management', 'AI Lab', 'Health Information', 'Natural Sciences', 'Social Science and Humanities', 'Economic Sciences', 'Electronic and Communications Engineering', 'Human Language Technology', 'Cognitive Science', 'Information and Physical Sciences', 'Finance & Economics', 'Advanced Research Computing', 'Information Technology Application Innovation', 'Information and Electronics', 'Computer Vision', 'Anesthesiology and Pain Medicine', 'General Surgery', 'Contents Research', 'Geography and Environment', 'Cultural Sciences', 'Prosthodontics', 'Bio-Med Big Data', 'Epidemiology and Population Health', 'Computing and Communications', 'Intelligence and Computing', 'Computer and Self Development', 'Ecology and Ethnobiology', 'Language and Speech Processing', 'Applied Computer Science', 'Administrative Sciences', 'Big Data and Internet', 'Neuro Innovation', 'Digital Humanities', 'Artificial Intelligence and Data Analytics', 'Business Intelligence', 'Health Research', 'AI Industry Research', 'Applied Science', 'Public Health and Human Sciences', 'Civil Engineering', 'Modern Languages', 'Biomedical Informatics Research', 'Translational Research and New Technologies in Medicine and Surgery', 'Computer and Software', 'Environmental Studies, Sociology, Environment and Society', 'Grassland and Environment Sciences', 'System Design Methods', 'Computer and Software Engineering', 'Machine Intelligence', 'Social and Behavioural Sciences', 'Civil & Environmental Engineering', 'Pathology', 'Pediatrics', 'Judicial Big Data', 'Geophysics', 'Empirical Software Engineering', 'Geography and Information Engineering', 'Control Engineering', 'Mathematics and Computer Science', 'Zoology', 'Anesthesiology and Critical Care', 'Clinical Trials and Epidemiological Sciences', 'Psychiatry and Biobehavioral Sciences', 'Trusted Software', 'Networking and Switching Technology', 'Population and Public Health', 'National Defence', 'Data and Computational Science', 'Cyberspace Security', 'Psychiatry and Behavioral Sciences', 'CS', 'Medical', 'Geomics and Bioinformatics', 'Information Sciences and Technology', 'Enterprise and the Environment', 'AI Research', 'Civil and Environmental Engineering', 'Communication Security', 'Forest and Wildlife Ecology', 'Psychological Science', 'Cardiac Centre', 'Electronics and Information Engineering', 'Robotics', 'Life Sciences Communication', 'Communication Disorders Science', 'Technological Innovation', 'Physics', 'Computer Science and Information Systems', 'Life Science and Chemical Engineering', 'Biomedical Engineering', 'Brain and Cognitive Sciences', 'Health and Biomedical Research', 'Innovation and Technological Development in Computing', 'AI Interaction', 'Health Technology', 'Security & Crime Science', 'Quantitative Health Sciences', 'Biomedical Data Science', 'Natural Language Learning', 'Otorhinolaryngology', 'Team Coaching Studies', 'Data Analytics and Cognition', 'Nursing and Midwifery', 'IT', 'Information and Technology', 'Computer Science & IT', 'Immunology', 'Big Data Analytics', 'Electrical Engineering and Computer Science', 'Computer Science and Engineering', 'Information Technology', 'Population Health IT', 'Information Science and Informatics', 'Computer Technology and Applied Mathematics', 'Ph.D Students', 'Electrical and Computer Engineering', 'Psychology', 'Management', 'Health Outcomes and Informatics Research', 'Informatics and Systems Development', 'Linguistics', 'Data Science', 'Mathematics', 'Communication and Internet Studies', 'Artificial Intelligence', 'Robotic Vision', 'Computer Science and Technology', 'Electrical Engineering', 'Medical Informatics', 'Medical Informatics and Knowledge Engineering in e-Health', 'Emergency Services', 'Information Sciences', 'Computing Technology', 'Healthcare Organization and Implementation Research', 'Data and Web Science', 'Language Technology', 'Engineering', 'Agri-Food Technology', 'Knowledge Engineering with Big Data', 'Financial Intelligence and Financial Engineering', 'AI', 'ECE', 'Chemical and Biomolecular Engineering', 'Interventional Radiology', 'Electronic Information Engineering', 'Frontier Technologies', 'Automation', 'Computer', 'Health Informatics', 'Information', 'Cognitive Sciences', 'Computer Vision and System', 'Biomedical and Health Informatics', 'Software', 'Data and Computer Science', 'Business', 'Intelligent Computing', 'Voice Interaction Technology', 'Computer Science and Informatics', 'Modern Distant Education', 'Speech and Dialog Research', 'Information and Communication Engineering', 'Software and Microelectronics', 'Biomedical Informatics', 'Radiation Oncology', 'Artificial Intelligence and Decision Support', 'Machine Translation/Language and Speech Processing', 'Radiology', 'Artificial Intelligence Research', 'Multimedia', 'Informatique', 'Computing', 'Signal Theory and Communications', 'Language', 'Information and Language Processing', 'Language Technologies', 'Formal Linguistics', 'Systems Analysis and Modeling for Decision Support', 'Communication', 'Computing Science', 'Computer Sciences', 'Law', 'Integrative Medical Sciences', 'Computer Science and Information Technology', 'Computer Engineering', 'Information Retrieval and Knowledge Management', 'Intelligent Technologies', 'Social Work and Social Administration', 'Cardiology', 'Informatics', 'Computing and Information Sciences', 'Computational Sciences', 'Big Data Security & Intelligent Processing', 'Computerized Intelligence Systems', 'Computer and Systems Engineering', 'Machine Intelligence and Perception', 'Earth System Science', 'Ocean Sciences', 'Computing Research', 'Knowledge and Library Sciences', 'Library', 'Bioinformatics', 'Electrical and Computer Science', 'Robotics, Computing', 'Physics and Electronic Information', 'Applied Mathematics', 'Mathematical Sciences', 'Science', 'Data Mining and Machine Learning', 'Mechanics and Aerotechnics', 'Computer Science & Engineering', 'Electronic Engineering and Computer Science', 'Reproductive Medicine', 'Computational Biomedicine', 'Transplantation and Immunology', 'Precision Medicine', 'Computer Science and Artificial Intelligence', 'Information Science and Electronic Engineering', 'Software Engineering', 'Big Data and Intelligent Education', 'Science and Technology', 'Information System', 'Electrical Engineering and Information Technology', 'Intelligent Information Processing', 'Information Science and Engineering', 'Systems Engineering and Engineering Management', 'Information & Computing', 'Cyber Science and Engineering', 'Interpreting and Translation Studies', 'BioHealth Informatics', 'Communication and Media', 'Nordic Studies and Linguistics', 'Automatic Language Modelling and Analysis & Computational Humanities', 'Information Systems', 'Computer Sciences and Information Technology', 'Neuroscience & Psychology', 'Computational Science and Engineering', 'Public Policy', 'CST', 'Applied Artificial Intelligence', 'Cancer Centre', 'Biochemistry & Molecular Biology', 'Medical School', 'Medical Biophysics', 'Management and Economics', 'Business Administration', 'Language Studies', 'Language Evolution', 'Logic', 'Brain', 'Medicine', 'Psychology, Language Studies', 'Finance', 'Communications and New Media', 'Computer & Information Science', 'Crop Cultivation', 'Visual Geometry', 'Logistics Engineering', 'Health', 'Computing and Decision Sciences', 'Engineering & Technology', 'Feature Extraction and Identification', 'Classics', 'Statistics and Data Science', 'Human Evolutionary Biology', 'Computing and Mathematics', 'Science and Technology for Brain-Inspired Intelligence', 'Applied Science and Engineering', 'Advanced Technology', 'Biomedical Informatics and Digital Health', 'Signal Image Parole', 'Management and Informatics', 'Computers and Artificial Intelligence', 'Computational Biology', 'Control Science and Engineering', 'Computer Science and Electronics', 'Electrical & Computer Engineering', 'Marketing', 'Management Science and Systems', 'Economics and Management', 'Electronic and Information Engineering', 'Computer Science & Technology', 'Business Administration and Economics', 'Computing and Software', 'English Language for Professional Communication', 'Logic and Computation', 'Computing and AI', 'Information Management', 'Computational Science and Technology', 'Information & Library Science', 'Industrial Engineering and Management', 'Information Studies', 'Information\\n', 'Computer Graphics Research', 'Extraterrestrial Physics', 'Software Development Environment', 'Information Science', 'Radiology and Medical Informatics', 'Resources and Environmental Information System', 'Earth Sciences', 'Industrial Engineering', 'Statistics and Actuarial Science', 'Machine Learning', 'Business Information System', 'Journalism', 'Intensive Care Unit', 'Computer Science and Information Engineering', 'Information Engineering', 'Applied Computing', 'Computer Engineering and Digital Systems', 'Geography', 'Geological', 'Geomatics', 'Computer and Information Technology', 'Emerging Media Studies', 'Software & Application Innovation', 'Electrical and Electronic Engineering', 'Endocrinology and Metabolism', 'Cardiovascular', 'Electronics and Communication Engineering', 'Systemics', 'System Engineering', 'Clinical Pharmacy', 'Computer Science and technology', 'Computer and Information Systems', 'Computing and Information Science', 'Education and Integrated Arts and Sciences', 'Bio Artificial Intelligence', 'Informatics Engineering', 'Computer and Information Sciences', 'Natural Applied Science', 'Computing and Information Technology', 'Math and Computer Science', 'Information and Library Science', 'Computer Science and Electronic Engineering', 'Language Intelligence', 'Software Technology', 'Management Studies', 'Mechatronics', 'Anesthesiology', 'Internal Medicine', 'Telecommunication Engineering', 'Political Science', 'Biology', 'Genomic and Computational Biology', 'Biological Sciences', 'Neuroscience', 'Geological Science', 'Natural Hazards', 'Physics and Astronomy', 'New Sciences and Technologies', 'Immunology and Rheumatology', 'Medical Sciences', 'Data and Information Sciences', 'Languages', 'Agricultural and Biological Engineering', 'Modern Languages and Linguistics', 'Text Mining', 'Mathematics and Applied Mathematics', 'Transfusion Medicine', 'Computer Technology', 'Computational Linguistics', 'Pattern Recognition', 'Physics and Information Engineering', 'Interdisciplinary Laboratory of Digital Sciences', 'Physics; Astrophysics and Space Research', 'Design and Innovation', 'Bioengineering', 'Biogeology and Environmental Geology', 'Information Systems and Applications', 'Software & Microelectronics', 'Medical Big Data', 'Mechanical Engineering', 'Mechanical and Electrical Engineering', 'Creative Technologies', 'Data Science and Blockchain', 'Mathematics and Systems Science', 'Geographic Information System', 'Intelligent Vision Based Monitoring for Hydroelectric Engineering', 'Population Health Sciences', 'Modeling', 'Engineering and Technology', 'Computer Engineering and Applications', 'Information Technology and Engineering', 'Computer Science and Math', 'Cyber Science & Technology', 'Foreign Languages and Literatures', 'Personal Dynamic Regulomes', 'Simulation Technology', 'Applied Mathematics and Computer Science', 'Surgery', 'Distributed Systems', 'Geological Processes and Mineral Resources', 'Computer and Information Science', 'Public Health', 'Electrical and Electronics Engineering', 'Basic Medicine and Cancer Research', 'ITEE', 'Control and Signal Processing', 'Software and Electrical Engineering', 'Systems Biology', 'Computers and Information', 'Computer Science and Communication', 'Computing and Information Systems', 'Wireless Intelligent Networks', 'Psychology and Cognitive Science', 'Cybersecurity', 'Bioinformatics and Data Science', 'English Language and Translation', 'Foreign Languages', 'Social Research', 'HealthLab', 'Biostatistics', 'Emergency Medicine and Critical Care', 'Emergency Medicine', 'Information Science and Technology', 'ISE', 'Marine Science and Technology', 'Cyberspace', 'Communication and Information Engineering', 'Artificial Intelligence and Big Data', 'Social and Political Science', 'Mathematics and Statistics', 'High-tech Business and Entrepreneurship', 'Computer Science Technology', 'Computer Science & Information Technology', 'Computer engineering', 'Dampness Syndrome of Chinese Medicine', 'Journalism and Media', 'Interaction Design and Business', 'Electronics and Information', 'Artificial Intelligence and Automation', 'Business Informatics and Business Analytics', 'Economics and Business Administration', 'Informatic', 'Intelligent Systems', 'Business and Management', 'Science and Engineering', 'Compter Science', 'Humanities Social Sciences and Law', 'Information Systems and Analytics', 'Technology', 'Sociology', 'Artificial Intelligence, Psychology', 'Pharmacy Management', 'Computer Science & Software Engineering', 'Mechanical and Biomedical Engineering', 'Medical Oncology', 'Intelligent Geo-Information Processing', 'Business School', 'Journalism Ethics and Security', 'Environmental Studies', 'Health Policy', 'Artificial Intelligent Technology', 'Medical Instruments Engineering techniques', 'Anaesthesia', 'Internet of Things', 'Philosophy and Social Sciences', 'Infectious Diseases and Global Public Health', 'Genomics and Bioinformatics', 'Medical Imaging', 'Computers and Systems Engineering', 'Systems and Computers Engineering', 'Machine Assisted Cognition', 'Climate Change Research', 'Manufacturing', 'Physical Therapy', 'Computing and Digital Technology', 'Anaesthesia and Intensive Care Medicine', 'Materials', 'Computer Languages and Systems', 'Information Science and Technologies', 'Biotechnology', 'CS and IT', 'Computer Science Engineering and Technology', 'Telecommunications Engineering', 'Network and Cybersecurity', 'Computing and IT', 'EECS', 'Imaging Physics', 'Electronics Engineering', 'Artificial Intelligence and Machine Learning', 'Artificial Intelligence Research and Optimization', 'Neurosciences', 'Statistics', 'Big Data', 'Systems Science', 'Diagnostic Radiology', 'Oncologic Imaging', 'Computer & Information Science & Engineering', 'Creative Media', 'Design', 'Management Information Systems', 'Math', 'Biomedical Research', 'Geriatrics', 'Intelligent Robotics', 'Food Science and Technology', 'Biology Education', 'Immuno-Oncology', 'Technology and Digital Services', 'Languages and Translation', 'Languages Sciences and Technologies', 'Engineering and Information Technology', 'Nautical Science', 'Signal Theory', 'General Artificial Intelligence', 'Computer and Systems Sciences', 'Education', 'Automatic Control', 'Letters', 'Methodology & Statistics', 'Info Technology', 'Intelligent Cloud Services', 'Philosophy', 'Data Science and Learning', 'Engineering and Computer Science', 'Biomedical Informatics and Medical Education', 'Chinese Language and Literature', 'Cancer Medicine', 'Mathematical and Information Science', 'Ophthalmology', 'Prevention Medicine (Epidemiology)', 'Cyber Institute', 'Software engineering', 'Biomedicine and Cancer Research', 'Genetics', 'Computing Technologies', 'Cyber Science and Technology', 'Infectious Disease Control', 'Population Health, Neurology', 'Computer and Artificial Intelligence', 'Extension', 'Exact and Technological Sciences', 'Interactive Computing', 'Internet Culture and Digital Dissemination', 'Computer and Communication Sciences', 'Management Sciences', 'Academic Internal Medicine and Geriatrics', 'Anthropology', 'Learning Sciences and Higher Education', 'Scientific Computing', 'Plastic', 'Family and Community Medicine', 'Machine Learning and Information Access', 'Information and Computer Science', 'Computer and Information Engineering', 'Medical Science', 'Novel Software Technology', 'Psychiatry', 'Affective System and Cognition', 'Literature', 'Digital Innovation', 'Epidemiology and Biostatistics', 'Computing & Data Sciences', \"Alzheimer's Disease Research\", 'Behavioral Science and Policy', 'Interactive Media', 'Human-Computer Interaction', 'Forensics and Security', 'Criminal Justice', 'Information Technology and Electrical Engineering', 'Biomedical Informatics and Data Science', 'Software and Computer Engineering', 'Radiology and Biomedical Engineering', 'BioMedical AI', 'Department', 'Electro and Informatics', 'Informatic Technology', 'Entrepreneurship', 'Information and Communication Studies', 'Experiential AI', 'Computational Mathematics', 'Information and Communications Engineering', 'Medical Oncology and Hematology', 'Dermatology', 'Value from Data', 'Urban Studies and Planning', 'Data Analytics', 'Quantitative Finance', 'Environmental Genomics and Systems Biology', 'Genomic Medicine', 'African Languages and Linguistics', 'Databases and Information Systems', 'Medical Library and Information Science', 'Health Science Educational Development', 'Information and Communications Technology', 'Petroleum engineering', 'Population Health', 'Advanced Research', 'Mechanical', 'Human-Technology Interaction', 'Digital Medicine', 'Statistics and Mathematics', 'Veterinary Surveillance', 'Animal Health and Food Safety', 'Pharmacy & Pharmaceutical Sciences', 'Operations and Management Information System', 'Information Systems and Technology', 'Information Technology Education', 'Autonomous Unmanned System Technology', 'Electronic Engineering', 'Automotive Data', 'Computational Molecular Biology', 'Brain Science', 'Computational Health Sciences', 'General Internal Medicine', 'Computational Physiology', 'Pulmonary and Critical Care Medicine', 'Behavioral Intervention Technologies', 'Computers', 'Computational Medicine', 'Quantitative and Computational Biology', 'Geography and Geoinformation Science', 'Cyber', 'Supply Chain', 'Cognitive Computing', 'Pharmacy & Pharmaceutical', 'Mechanical and Vehicle Engineering', 'Mechanical and Process Engineering', 'Automatic Drive', 'Innovation Engineering', 'Management and Control of Complex Systems', 'Business Analytics', 'Computer & Information Sciences', 'Economics and Law', 'Energy Management and Planning', 'Multimedia Software', 'Waterborne Transport', 'Photonics', 'Computer Software Engineering', 'Computer and Software Technology', 'Information Technology and Computer Sciences', 'Radiological Science', 'Dentistry', 'Computer Science and Operations Research', 'Hospital Internal Medicine', 'Discrete Mathematics and Theoretical Computer Science', 'Cardiothoracic Surgery', 'Cardiovascular Surgery', 'Cardiovascular Medicine', 'Radiology and Biomedical Informatics', 'Gastroenterology and Hepatology', 'Infectious Diseases', 'Anesthesia', 'Reactor System Design Technology', 'Software Research', 'Physiology', 'Intelligent Information Technology', 'Language Science and Technology', 'Electronic', 'Computer Science & Information Systems', 'Engineering Science', 'Outcomes Research and Evaluation', 'Heart Hospital', 'Personalized Medicine', 'Science and Technology for Brain-inspired Intelligence', 'Multimodal Artificial Intelligence Systems, Management and Control for Complex Systems', 'Molecular Physiology and Biophysics', 'Electrical and Data Engineering', 'Oncology', 'Traditional Chinese Medicine', 'Cyber-Physical Systems', 'Psychological and Brain Sciences', 'Linguistics, Data Science', 'Electronics', 'Life Science', 'Computer Science and Software Engineering', 'Information Biology', 'Restorative Dentistry', 'Mechanical and Industrial Engineering', 'Geographical Sciences', 'Economics', 'Business Engineering for Data Science', 'Information Security and Communication Technology', 'Advanced Electromagnetic Technology', 'Human-Centered Computing', 'Clinical Excellence', 'Technology and Digital Solutions', 'BioDesign', 'Education and Psychology', 'Educational Studies', 'Counseling and Special Education', 'Medicine–Clinical Informatics', 'Osteopathic Medicine', 'Anesthesiology & Perioperative Care', 'Anesthesiology & Perioperative Medicine', 'Construction Management', 'Civil', 'Digital Health', 'Marine Biology', 'Plant & Soil Sciences', 'Online Dialogue and Cultural Communication', 'Biomedical Ethics and Society', 'Obstetrics and Gynecology', 'Pulmonary', 'Nursing', 'Biomedical engineering', 'Critical Care Medicine', 'Social Informatics', 'Computer Science and Statistical Sciences', 'Engineering and Applied Sciences', 'Multimedia and Interactive Systems', 'Digital Media', 'Industrial Design', 'Systems Design Engineering', 'Information & Communication Studies', 'Health Promotion', 'Health Promotion and Behavioral Sciences', 'Interactive Arts + Technology', 'Mathematical and Computational Sciences', 'Computer Science and Technology; Data Science', 'Radiation Medicine', 'Microelectronics', 'Nutrition', 'Pharmacoepidemiology and Pharmacoeconomics', 'Informatics for Business', 'Electrical and Information Engineering', 'Medical Informatics Engineering', 'Cancer Research', 'Computer Engineering and Applied Math', 'High Confidence Software Technologies', 'Computing Science and Engineering', 'Visual Analytics', 'Software development', 'Traffic Data Analysis and Mining', 'Mathematics and Economics', 'Biostatistics & Data Science', 'Artificial Intelligence and Informatics', 'Lymphoma and Myeloma', 'Nanomedicine', 'Hematology and Oncology', 'Translational Molecular Pathology', 'Implementation Science in Health Care', 'Rheumatology and Immunology', 'Basic Medicine', 'Hematology', 'Nephrology', 'Artificial Intelligence and Data Engineering', 'Information Systems and Informatics', 'Information Systems and Statistics', 'Data Engineering and Science', 'Civil and Environmental Engineering, Computational Science and Engineering', 'Journalism and Communication', 'Genomic Epidemiology', 'Protein Research', 'Justice Studies', 'Health Policy and Management', 'Computer System Engineering', 'Life Sciences', 'Government and Public Affairs', 'Family Medicine and Population Health', 'Counseling and Clinical Psychology', 'Mathematics Education', 'Infectious Diseases and Immunology', 'Public Health Sciences', 'Translational Medicine in Bone and Joint Diseases', 'Artificial Intelligence in Medicine', 'Electrical and Software Engineering', 'Computer Science, Electrical and Software Engineering', 'Orthopaedics', 'Psychological Sciences', 'Biosystems Science and Engineering', 'Chemistry and Applied Biosciences', 'Toxicology and Structural Bioinformatics', 'Data Driven Drug Design', 'Computer Science, Communication', 'Blood and Marrow Transplantation', 'Product Design', 'Computer System and Technology', 'Paediatric & Congenital Heart', 'Biomedicl Informtics', 'Developmental-Behavioral Pediatrics', 'Human-Centered Data Analytics', 'Infection', 'Applied Physics', 'Chemical Engineering', 'Artificial Chemical Intelligence', 'Mechanical Engineering and Materials Science', 'Material Measurement', 'Applied Mathematics and Computational Research', 'Condensed Matter and Nanosciences', 'Material Research and Testing', 'Molecular Simulation', 'Chemistry and Biochemistry', 'Geography Education', 'AI Research and Innovation', 'Electrical Electronic Engineering', 'Communication and Psychology', 'Health and Welfare', 'Semiconductors', 'Mind', 'Biochemistry', 'Civil and Environmental Engineering and Computer Science', 'Computer Languages and Systems and Software Engineering', 'Management Science & Engineering', 'Refugee Studies', 'Electrical', 'Pharmaceutical Sciences', 'Neurosurgery', 'Digital Materials', 'Electrical Engineering and Computer Sciences', 'Computer Science and Random Systems', 'Epigenetics and Cell Fate', 'Agro-Industrial Technology', 'Security and Crime Science', 'Architecture', 'Electrical and Systems Engineering', 'Information Technology and Management', 'Molecular Targets and Therapeutics', 'Supercomputing', 'Arts and Creative Technologies', 'Preventive Medicine', 'Computational Media and Arts', 'Humanities', 'Quantitative Social Science', 'Environment', 'Environmental Sciences', 'Geoinformation and Big Data', 'Landscape Architecture and Urban Planning, Computer Science and Engineering', 'Vulnerability Management', 'Management Science and Information Systems', 'Computer Sc']\n"
          ]
        }
      ]
    },
    {
      "cell_type": "code",
      "source": [
        "from collections import Counter\n",
        "\n",
        "file_path = '/content/drive/MyDrive/Project - LLM science of science/data_network/disciplines_projected_edgelist.csv'\n",
        "projected_df = pd.read_csv(file_path)\n",
        "\n",
        "# Create a weighted graph from the dataframe\n",
        "G = nx.from_pandas_edgelist(projected_df, 'source', 'target', ['weight'])\n",
        "\n",
        "# List of nodes directly connected to Medicine\n",
        "MEDICINE_connected_nodes = list(G.neighbors('Medicine'))\n",
        "print('Disciplines connected to Medicine:')\n",
        "print(MEDICINE_connected_nodes)\n",
        "\n",
        "# Analyze Medicine as an intermediary\n",
        "intermediary_connections = []\n",
        "\n",
        "for node in MEDICINE_connected_nodes:\n",
        "    for connected_node in G.neighbors(node):\n",
        "        if connected_node != 'Medicine' and connected_node not in MEDICINE_connected_nodes:\n",
        "            weight = G[node][connected_node]['weight'] if 'weight' in G[node][connected_node] else 1\n",
        "            intermediary_connections.append((node, connected_node, weight))\n",
        "\n",
        "# Count frequency of intermediary connections considering weights\n",
        "intermediary_counter = Counter()\n",
        "for node, connected_node, weight in intermediary_connections:\n",
        "    intermediary_counter[(node, connected_node)] += weight\n",
        "\n",
        "# Prepare the data for the MEDICINEV file\n",
        "intermediary_data = [{'Connection': f'{connection[0]} - {connection[1]}', 'Frequency': freq} for connection, freq in intermediary_counter.items()]\n",
        "\n",
        "# Create a DataFrame and save to MEDICINEV\n",
        "intermediary_df = pd.DataFrame(intermediary_data)\n",
        "intermediary_df.to_csv('MEDICINE_intermediary_connections.csv', index=False)"
      ],
      "metadata": {
        "colab": {
          "base_uri": "https://localhost:8080/"
        },
        "id": "oOVI3-eaKQYZ",
        "outputId": "2206f7ba-d115-4207-cce1-82182a01de3e"
      },
      "execution_count": 11,
      "outputs": [
        {
          "output_type": "stream",
          "name": "stdout",
          "text": [
            "Disciplines connected to Medicine:\n",
            "['Neurology', 'Artificial Intelligence in Healthcare', 'Cognitive and Brain Sciences', 'Chemistry', 'Natural Language Processing', 'Pathology and Immunology', 'Behavioral Health and Technology', \"Men's Health: Aging and Metabolism\", 'Clinical Cell Therapy', 'Physiotherapy', 'Health Information', 'Health Care Policy and Research', 'Data-Driven Insights and Innovation', 'Anesthesiology and Pharmacology', 'Computational Precision Health', 'Math and Computer', 'Surgical Outcomes Research', 'General Surgery', 'Plastic surgeon', 'Epidemiology and Population Health', 'Epidemiology', 'Child and Adolescent Psychiatry', 'Health Research Methods', 'Future Studies', 'Applied Science', 'Public Health and Human Sciences', 'Industrial Engineering and Engineering Management', 'Human Performance, Health Informatics and Information Management', 'Biomedical Informatics Research', 'Biomedical', 'Otolaryngology-Head and Neck Surgery', 'Health Policy and Administration', 'Pathology', 'Pediatrics', 'Mathematics and Computer Science', 'Anesthesiology and Critical Care', 'Biomedical Ethics', 'Clinical Trials and Epidemiological Sciences', 'Emergency', 'Data and Computational Science', 'Forensic Sciences and Legal Medicine', 'Ophthalmology and Public Health Sciences', 'Immunology and Microbiology', 'Psychiatry and Behavioral Sciences', 'Medical', 'Information Sciences and Technology', 'Obstetrics & Gynaecology', 'Surgery and Cancer', 'Eye Center', 'Physics', 'Biomedical Engineering', 'Brain and Cognitive Sciences', 'Artificial Medical Intelligence', 'Quantitative Health Sciences', 'Biomedical Data Science', 'Otorhinolaryngology', 'Computer Science', 'Interdisciplinary Information Studies', 'Applied Medical Sciences', 'Molecular Biology', 'Anesthesia', 'Research IT', 'Life Sciences', 'Medicine & Health Sciences', 'Data Analytics', 'Computational Biology and Bioinformatics', 'Neurosciences', 'Digital Medicine', 'Sport Medicine and Rehabilitation', 'Renal Research', 'Computational Physiology', 'Clinical Biochemistry and Pharmacology', 'Space Medicine', 'Statistics and Data Science', 'Clinical Informatics', 'Thoracic Tumor Multimodality Treatment', 'Population Health', 'Communication and Mass Media', 'Health Sciences', 'Heart and Vascular Institute', 'Neurological Clinical Research', 'Population Health Sciences', 'Biomedical Informatics, Surgery', 'Information Science and Technology', 'Emergency and Critical Care Medicine', 'Dental', 'Hematology and Hematologic Malignancies', 'Practical Ethics', 'Perioperative Informatics', 'Biosciences', 'Transfusion Medicine and Cell Therapy', 'Biology of Infection', 'Endocrinology', 'Media and Culture Studies', 'Biomedical Research and Innovation', 'Applied Languages', 'Breast and Thyroid Surgery', 'Information and Electrical Engineering', 'Clinical Laboratories Sciences', 'Technology Enhanced Learning and Innovation', 'Health Humanities', 'Psychiatry and Addictology', 'Medical Sciences and Public Health', 'Social Health', 'Education and Psychology', 'Medical Engineering & Science', 'Medicine Pharmacy', 'Statistics and Mathematics', 'Comparative and Experimental Medicine', 'Communication', 'Information and Computer Science', 'Artificial Intelligence in Medicine', 'Data-Driven and Digital Medicine', 'Statistics & Data Science', 'Nutrition', 'Applied Mathematics', 'Statistics', 'Gastroenterology', 'Critical Care Medicine', 'Neuro-oncology', 'Dermatology', 'Clinical Excellence', 'Environmental Genomics and Systems Biology', 'Earth and Environmental Sciences', 'Human Sciences', 'Computational Biology', 'Hematology/Oncology', 'Medical Nursing', 'Otolaryngology', 'Hematology-Oncology', 'Sport and Physical Education', 'Clinical Chemistry and Pathobiochemistry', 'Development and Regeneration', 'Surgical Research', 'Health Services Research', 'Orthopaedic Trauma Service', 'Biochemistry and Molecular Medicine', 'Musculoskeletal Pathology', 'Antimicrobial Optimisation', 'Clinical Chemistry', 'Medical Surgical Sciences and Biotechnologies', 'Ear', 'Geriatrics and Gerontology', 'Physiology', 'Computer Science and Technology', 'Exercise Science', 'Ophthalmology Informatics and Data Science', 'Healthcare Delivery Science', 'Geographic Analysis', 'Health Policy and Management', 'Diagnostic Imaging', 'AI and Informatics', 'Interventional Cardiology', 'Heart & Vascular Institute', 'Health Services', 'Pulmonary and Critical Care', 'Body Computing', 'Quantitative Sciences', 'Psychiatry and Behavioural Sciences', 'Heart Failure Research', 'Medicine and Health Sciences', 'Clinical Sciences', 'Physical Activity', 'Orthopedic Surgery', 'Voice', 'Radiological Sciences', 'Computer Science & IT', 'Information Technology and Computer Engineering', 'Orthopedics', 'Cardiology', 'Industrial Technology', 'Eye', 'Cardiology, Genomic Medicine', 'Health Informatics', 'Breast Surgery', 'Vaccine', 'Physical Medicine & Rehabilitation', 'AIDS', 'Pulmonary Critical Care and Sleep Medicine', 'Thrombosis and Hemostasis', 'Aphasia Recovery', 'Molecular Physiology and Biophysics', 'Linguistics', 'Health Systems and Population Health Sciences', 'Diagnosis and Surgery', 'Computational and Mathematical Engineering', 'Otolaryngology and Head and Neck Surgery', 'Diagnostic Radiography', 'Bioethics', 'Surgery', 'Medical Biochemistry', 'Modern Chinese Medicine', 'Ophthalmology', 'Clinical and Biological Sciences', 'Pediatric Dentistry', 'Computer Techniques Engineering', 'Pharmaceutical Sciences', 'Neurological Surgery', 'Biomarkers in Neuropsychiatry', 'Psychiatry and Neuroscience', 'Bioengineering', 'Pain evaluation and treatment', 'Digital Health', 'Child Studies', 'Robotic Surgery', 'Metabolic and Bariatric Surgery', 'Human-Machine Perception', 'Biology', 'Medical School', 'Hematology', 'Anatomy & Embryology', 'Software Engineering', 'Neurosurgery', 'Biomechanics and Mechanobiology', 'Bioinformatics', 'Brain Research', 'Microbiome', 'Human Nutrition', 'Nursing', 'Creative Industries', 'Biological Sciences', 'Microbiology', 'Electrical and Electronics Engineering', 'Biotechnological and Applied Clinical Sciences', 'Rheumatology', 'Pharmacology', 'Physical Education and Sports', 'Biomedical Research', 'Epidemiology and Biostatistics', 'Infectious Diseases', 'Psychology and Neuroscience', 'Mental Health', 'Gynecology', 'Health', 'Psychosocial Oncology and Palliative Care', 'Medical Oncology', 'Neuroscience', 'Rehabilitation Medicine', 'Health Promotion and Medicine of the Future', 'Biomedical Sciences and Biomedical Engineering', 'Anesthesia and Intensive Care', 'BioDesign', 'Biomedical Informatics', 'Meteorology', 'Nephrology and Hypertension', 'Haematology', 'Obstetrics and Gynecology', 'Sports Cardiology', 'Pediatric Surgery', 'Orthopedic Oncology', 'Vascular & Endovascular Surgery', 'Science of Health Care Delivery', 'Computational Biomedicine', 'Metabolic Diseases', 'Radiology and Imaging Sciences', 'Gastrointestinal and Liver Disease Research', 'Biomedical Sciences', 'Cancer Centre', 'Otolaryngology – Head and Neck Surgery', 'Mathematics', 'Biomedical Sciences and Engineering', 'Information Systems', 'Engineering', 'Urology', 'Plastic Surgery', 'Biomedical Informatics and Medical Education', 'TB and Lung Disease', 'Information Science', 'Personalized Medicine', 'Pharmacoepidemiology and Pharmacoeconomics', 'Chronic Diseases and Metabolism', 'Hospital Internal Medicine', 'Cancer Institute', 'Clinical Biochemistry', 'Medical Education', 'Social Sciences and Humanities', 'Health System Research', 'Radiology', 'Internal Medicine and Geriatrics', 'Global Health and Population', 'Genetics', 'Medicine & Therapeutics', 'Plastic and Reconstructive Surgery', 'Health Professions Education', 'Artificial Intelligence', 'Pediatric Intensive Care', 'Sports Performance', 'Economics', 'Immunology and Infectious Diseases', 'Laboratory Medicine', 'Regenerative Medicine and Health', 'Pediatric Urology', 'Healthcare Associated Infections and Antimicrobial Resistance', 'Complementary and Alternative Medicine', 'Eye Research', 'Clinical Medicine', 'Applied Artificial Intelligence', 'General Practice', 'Vaccines and Immunization Policies', 'Research and Research Policy', 'Radiology and Nuclear Medicine', 'Modelling brain structure', 'Education', 'Cutaneous Research', 'Data Driven and Digital Medicine', 'Diagnostic and Interventional Radiology', 'Preventive Medicine and Wellness', 'Clinical Biochemistry and Immunology', 'Surgery and Anatomy', 'Orthopedic', 'Innovation and Precision Eye Health', 'Nephrology', 'Medicine and Pharmacy', 'Clinical Microbiology', 'Global Health', 'Spine Surgery', 'Male Fertility', \"Alzheimer's Disease Research\", 'Anthropology', 'Biochemistry', 'Osteopathic Medicine', 'Health Sciences and Technology', 'Family Medicine', 'Systems and Information Engineering', 'Global Affairs', 'Minimally Invasive Gynecologic Surgery', 'Electrical and Computer Engineering', 'Neurological Disorders and Stroke', 'Foreign Languages', 'Cardiovascular Research', 'Child Study', 'Community Medicine and Public Health', 'Medical Education and Informatics', 'Computing and Software', 'Sport and Exercise', 'Infectious Disease', 'Pharmacy', 'Investigational Cancer Therapeutics', 'General Internal Medicine and Public Health', 'Public Health', 'Digestive and Liver diseases', 'Computer Sciences', 'Biotechnology', 'Bioinformatics and Systems Biology', 'Computing Science', 'Physical Education and Sport Teaching', 'Psychology', 'Education Research', 'Ophthalmology and Vision Sciences', 'Clinical Toxicology', 'Medicine and Dental Surgery', 'Pediatric', 'Industrial and Applied Mathematics', 'Artificial Intelligence and Informatics', 'Infectious Diseases Stewardship', 'Security and Bioethics—Infectious Diseases', 'Post-Baccalaureate Medicine', 'Biostatistics', 'Medical Education, Pediatrics', 'Environmental Health Sciences', 'Heart Institute', 'Oral Diagnosis', 'Biomedical Informatics & Medical Education', 'Pediatric Emergency Medicine', 'Developmental Biology', 'Digital Health Innovation', 'Electrical & Computer Engineering, Systems Engineering', 'Sociology and Behavioral Sciences', 'Cardiac Diseases', 'Gastroenterology and Hepatology', 'Nutrition Science', 'Medical Education and Research', 'Family Medicine and Community Health', 'Internal Medicine', 'Cancer Research', 'Neuroradiology', 'Men’s Health: Aging and Metabolism', 'Ophthalmology and Visual Science', 'Inflammatory Bowel Disease', 'Social Policy / Primary Health Care and Equity', 'Geosciences', 'Hospital Medicine', 'Healthcare Organization and Implementation Research', 'Imaging', 'Cardiovascular Innovation', 'Medical and Dental Sciences', 'Management', 'Microbiology and Molecular Genetics', 'Radiology and Biomedical Imaging', 'Medical Research', 'Diagnostic and Generalist Medicine', 'Computer and Information Science', 'Translational Medicine', 'Pharmaceutical Science', 'Molecular Medicine and Medical Biotechnology', 'Oncologic Imaging', 'Advanced Medical and Surgical Sciences', 'Biostatistics and Informatics', 'Neuro-Oncology', 'Stomatology', 'Otolaryngology‐Head & Neck Surgery', 'Science', 'Medicine–Clinical Informatics', 'Plastic', 'Artificial Intelligence in Medicine and Imaging', 'Cardiovascular Diseases', 'Evidence Synthesis', 'General Medicine', 'Cancer', 'Electronic Engineering', 'Digestive Disease', 'Primary Care and Public Health', 'Computing & Data Sciences', 'Dentistry', 'Surgery and Interventional Sciences', 'Medicine & Dentistry', 'Dermatology and Allergy', 'Kidney and Pancreas Transplant', 'Diabetes Research', 'Human Neuroscience', 'Social Development', 'Orthopaedic Surgery and Rehabilitation', 'Information Technologies and Services', 'Orthopaedic Surgery', 'Infectious and Tropical Diseases', 'Diabetes', 'Knowledge Engineering for Human Learning', 'Pathology & Laboratory Medicine', 'Academic Internal Medicine and Geriatrics', 'Public Health and Recreation', 'Cardiovascular Medicine', 'Anesthesiology and Perioperative Medicine', 'Business', 'Critical Care', 'Radiation Oncology', 'Environment and Health', 'Population Health, Neurology', 'Digital Economy, Human-Centered AI', 'Laboratory Diagnostics', 'HIV/AIDS', 'Engineering and Applied Sciences', 'Upper Limb Surgery', 'Community Medicine', 'Emergency Medicine', 'Medicine and Public Health', 'Clinical Research', 'Computational Health Sciences', 'Immunology and Rheumatology', 'Medical Sciences', 'Family Studies and Child Development', 'Sociological Research', 'Nuclear Medicine', 'Medical Informatics', 'Informatics', 'Public Health and Primary Care', 'Computer Engineering', 'Electronics and Information Technology', 'Genomic Medicine', 'Anesthesiology', 'Emergency Life-Saving Technique', 'Information Management', 'Medical Imaging', 'Medical Business', 'Industrial Engineering', 'Telecommunication Networks and Technologies', 'Computational Imaging of the Central Nervous System', 'Medical Science', 'Public Health and Social Work', 'Information and Computer Sciences', 'Engineering and Technology', 'Real-World Evidence', 'Cardiovascular', 'Electrical Engineering', 'Magnetic Resonance Research', 'Biomedical Informatics and Data Science', 'Family and Community Medicine', 'Computer Science and Engineering', 'Geography', 'Psychiatry', 'Systems Science', 'Diagnostic Radiology', 'NLP', 'Information', 'Orthopaedics', 'Pulmonology', 'Psychiatry and Psychotherapy', 'Engineering Science', 'Ophthalmology and Visual Sciences', 'General Internal Medicine', 'Vascular Surgery', 'Computational Molecular Biology', 'Software and Information Systems Engineering', 'Health Information Technology', 'Human and Social Sciences', 'Hand', 'Imaging Biomarkers and Computer-Aided Diagnosis', 'Medicine & Public Health', 'Health Sciences Education', 'AI Industrial Research', 'Cancer Center', 'Pharmacology and Toxicology', 'Health & Life Sciences', 'African Studies', 'Health Sciences, Engineering', 'Technology and Digital Solutions', 'Artificial Intelligence and Digital Innovation', 'Population Medicine', 'Genetics and Genomic Sciences', 'Medical and Life Sciences', 'Language Technologies', 'Inflammatory Bowel and Immunobiology Research', 'Endocrinology and Metabolic Hepatology', 'Infectious Disease and Hepatology', 'Motor Behavior', 'Sport Science and Physical Education', 'Physical Education', 'Health Information Management and Technology', 'Clinical Nutrition']\n"
          ]
        }
      ]
    },
    {
      "cell_type": "code",
      "source": [
        "### calculate the intermediaries (the facilitators of LLMs research)"
      ],
      "metadata": {
        "id": "fb5pUWZSexiI"
      },
      "execution_count": null,
      "outputs": []
    },
    {
      "cell_type": "code",
      "source": [
        "print(projected_graph.numberOfNodes(), projected_graph.numberOfEdges())"
      ],
      "metadata": {
        "colab": {
          "base_uri": "https://localhost:8080/"
        },
        "id": "_zRHO-fO4Ee2",
        "outputId": "09d594b7-23ed-42b8-e278-d2b6b7c2b85a"
      },
      "execution_count": 12,
      "outputs": [
        {
          "output_type": "stream",
          "name": "stdout",
          "text": [
            "6604 16811\n"
          ]
        }
      ]
    },
    {
      "cell_type": "markdown",
      "source": [
        "## by Countries"
      ],
      "metadata": {
        "id": "42H1dYA_Bw0K"
      }
    },
    {
      "cell_type": "code",
      "source": [
        "import pandas as pd\n",
        "import networkit as nk\n",
        "import networkx as nx\n",
        "from networkx.algorithms.community.modularity_max import greedy_modularity_communities\n",
        "import powerlaw\n",
        "import matplotlib.pyplot as plt\n",
        "\n",
        "# Load the data from the file\n",
        "file_path = '/content/drive/MyDrive/Project - LLM science of science/data_network/affiliation_countries_entropy.xlsx'  # Update this path to the correct file location\n",
        "df = pd.read_excel(file_path)\n",
        "\n",
        "# Ensure that affiliation_countries is in a list format\n",
        "df['affiliation_countries'] = df['affiliation_countries'].apply(eval)\n",
        "\n",
        "# Create an edgelist\n",
        "edgelist = []\n",
        "for index, row in df.iterrows():\n",
        "    title = row['title']\n",
        "    countries = row['affiliation_countries']\n",
        "    for country in countries:\n",
        "        edgelist.append((title, country))\n",
        "\n",
        "# Convert the edgelist to a DataFrame\n",
        "edgelist_df = pd.DataFrame(edgelist, columns=['source', 'target'])\n",
        "\n",
        "# Save the edgelist to a CSV file\n",
        "edgelist_df.to_csv('/content/drive/MyDrive/Project - LLM science of science/data_network/affiliation_countries_entropy_edgelist.csv', index=False)\n",
        "\n",
        "print(\"Edgelist created and saved as 'affiliation_countries_entropy_edgelist.csv'.\")\n",
        "\n",
        "# Map nodes to indices\n",
        "node_map = {}\n",
        "index = 0\n",
        "\n",
        "def get_node_index(node):\n",
        "    global index\n",
        "    if node not in node_map:\n",
        "        node_map[node] = index\n",
        "        index += 1\n",
        "    return node_map[node]\n",
        "\n",
        "# Determine the number of unique nodes\n",
        "num_nodes = len(set(edgelist_df['source']).union(set(edgelist_df['target'])))\n",
        "\n",
        "# Create a bipartite graph with the predefined number of nodes\n",
        "B = nk.graph.Graph(num_nodes, weighted=True, directed=False)\n",
        "\n",
        "# Add edges to the bipartite graph\n",
        "for _, row in edgelist_df.iterrows():\n",
        "    paper = get_node_index(row['source'])\n",
        "    country = get_node_index(row['target'])\n",
        "    B.addEdge(paper, country)\n",
        "\n",
        "# Collect countries\n",
        "countries = set()\n",
        "for _, row in edgelist_df.iterrows():\n",
        "    countries.add(row['target'])\n",
        "\n",
        "# Create a projection onto countries\n",
        "projected_graph = nk.graph.Graph(len(countries), weighted=True, directed=False)\n",
        "\n",
        "# Map countries to indices in the projected graph\n",
        "country_map = {country: i for i, country in enumerate(countries)}\n",
        "\n",
        "# Initialize a dictionary to hold the edge weights\n",
        "edge_weights = {}\n",
        "\n",
        "# Add edges between countries that share at least one paper, with weights\n",
        "for _, row in edgelist_df.iterrows():\n",
        "    paper = get_node_index(row['source'])\n",
        "    country = country_map[row['target']]\n",
        "    for neighbor in B.iterNeighbors(paper):\n",
        "        neighbor_country = None\n",
        "        for key, value in node_map.items():\n",
        "            if value == neighbor:\n",
        "                if key in countries:\n",
        "                    neighbor_country = country_map[key]\n",
        "                    break\n",
        "        if neighbor_country is not None and neighbor_country != country:\n",
        "            if (country, neighbor_country) in edge_weights:\n",
        "                edge_weights[(country, neighbor_country)] += 1\n",
        "            elif (neighbor_country, country) in edge_weights:\n",
        "                edge_weights[(neighbor_country, country)] += 1\n",
        "            else:\n",
        "                edge_weights[(country, neighbor_country)] = 1\n",
        "\n",
        "# Add edges with weights to the projected graph\n",
        "for (u, v), weight in edge_weights.items():\n",
        "    projected_graph.addEdge(u, v, weight)\n",
        "\n",
        "# Convert Networkit graph to NetworkX graph\n",
        "def networkit_to_networkx(nk_graph):\n",
        "    nx_graph = nx.Graph()\n",
        "    for u in nk_graph.iterNodes():\n",
        "        nx_graph.add_node(u)\n",
        "    for u, v in nk_graph.iterEdges():\n",
        "        nx_graph.add_edge(u, v, weight=nk_graph.weight(u, v))\n",
        "    return nx_graph\n",
        "\n",
        "# Convert projected graph to NetworkX graph\n",
        "nx_projected_graph = networkit_to_networkx(projected_graph)\n",
        "\n",
        "# Calculate degree centrality (considering weights)\n",
        "deg_centrality = nk.centrality.DegreeCentrality(projected_graph, ignoreSelfLoops=True)\n",
        "deg_centrality.run()\n",
        "degree_centrality_result = deg_centrality.ranking()\n",
        "\n",
        "# Calculate closeness centrality for each connected component\n",
        "components = nk.components.ConnectedComponents(projected_graph).run()\n",
        "closeness_centrality_result = []\n",
        "\n",
        "for component in components.getComponents():\n",
        "    subgraph = nk.graphtools.subgraphFromNodes(projected_graph, component)\n",
        "    closeness_centrality = nk.centrality.Closeness(subgraph, True, subgraph.upperNodeIdBound())\n",
        "    closeness_centrality.run()\n",
        "    closeness_centrality_result.extend(closeness_centrality.ranking())\n",
        "\n",
        "# Sort the combined results\n",
        "closeness_centrality_result.sort(key=lambda x: x[1], reverse=True)\n",
        "\n",
        "# Calculate betweenness centrality\n",
        "betweenness_centrality = nk.centrality.Betweenness(projected_graph, normalized=True)\n",
        "betweenness_centrality.run()\n",
        "betweenness_centrality_result = betweenness_centrality.ranking()\n",
        "\n",
        "# Calculate eigenvector centrality\n",
        "eigenvector_centrality = nk.centrality.EigenvectorCentrality(projected_graph)\n",
        "eigenvector_centrality.run()\n",
        "eigenvector_centrality_result = eigenvector_centrality.ranking()\n",
        "\n",
        "# Summarize the network\n",
        "num_nodes = projected_graph.numberOfNodes()\n",
        "num_edges = projected_graph.numberOfEdges()\n",
        "density = nk.graphtools.density(projected_graph)\n",
        "\n",
        "# Extract largest connected component\n",
        "largest_component = nk.components.ConnectedComponents.extractLargestConnectedComponent(projected_graph, True)\n",
        "\n",
        "# Calculate diameter of the largest component\n",
        "diam = nk.distance.Diameter(largest_component, algo=1)\n",
        "diam.run()\n",
        "diameter = diam.getDiameter()\n",
        "\n",
        "# Calculate average shortest path length for the largest component\n",
        "apsp = nk.distance.APSP(largest_component).run()\n",
        "distances = apsp.getDistances()\n",
        "\n",
        "total_distance = 0\n",
        "total_pairs = 0\n",
        "\n",
        "for row in distances:\n",
        "    for dist in row:\n",
        "        if dist < float('inf'):\n",
        "            total_distance += dist\n",
        "            total_pairs += 1\n",
        "\n",
        "avg_shortest_path_length = total_distance / total_pairs if total_pairs > 0 else float('inf')\n",
        "\n",
        "# Calculate clustering coefficient\n",
        "clustering_coefficient_result = nk.globals.clustering(projected_graph)\n",
        "\n",
        "num_components = components.numberOfComponents()\n",
        "largest_component_size = largest_component.numberOfNodes()\n",
        "\n",
        "# Calculate the degree distribution\n",
        "dc = nk.centrality.DegreeCentrality(projected_graph)\n",
        "dc.run()\n",
        "scores = dc.scores()\n",
        "\n",
        "# Fit the degree distribution to a power law using the powerlaw package\n",
        "fit = powerlaw.Fit(scores)\n",
        "power_law_value = fit.power_law.alpha\n",
        "\n",
        "# Plot the degree distribution (optional)\n",
        "degree_counts = {}\n",
        "for score in scores:\n",
        "    if score in degree_counts:\n",
        "        degree_counts[score] += 1\n",
        "    else:\n",
        "        degree_counts[score] = 1\n",
        "\n",
        "plt.bar(degree_counts.keys(), degree_counts.values())\n",
        "plt.xlabel('Degree Centrality')\n",
        "plt.ylabel('Frequency')\n",
        "plt.title('Distribution of Degree Centrality')\n",
        "plt.show()\n",
        "\n",
        "# Community detection using Clauset-Newman-Moore in NetworkX\n",
        "communities = greedy_modularity_communities(nx_projected_graph)\n",
        "num_communities_nx = len(communities)\n",
        "\n",
        "# Community detection using PLM in Networkit\n",
        "community_detector = nk.community.PLM(projected_graph)\n",
        "community_detector.run()\n",
        "num_communities_nk = len(community_detector.getPartition().getSubsetIds())\n",
        "\n",
        "# Print results\n",
        "print(\"Degree Centrality:\", degree_centrality_result[:10])  # Top 10 nodes\n",
        "print(\"Closeness Centrality:\", closeness_centrality_result[:10])  # Top 10 nodes\n",
        "print(\"Betweenness Centrality:\", betweenness_centrality_result[:10])  # Top 10 nodes\n",
        "print(\"Eigenvector Centrality:\", eigenvector_centrality_result[:10])  # Top 10 nodes\n",
        "\n",
        "print(\"Number of Nodes:\", num_nodes)\n",
        "print(\"Number of Edges:\", num_edges)\n",
        "print(\"Density:\", density)\n",
        "print(\"Diameter of Largest Component:\", diameter)\n",
        "print(\"Average Shortest Path Length:\", avg_shortest_path_length)\n",
        "print(\"Clustering Coefficient:\", clustering_coefficient_result)\n",
        "print(\"Number of Components:\", num_components)\n",
        "print(\"Size of Largest Component:\", largest_component_size)\n",
        "print(\"Power-law Exponent:\", power_law_value)\n",
        "print(\"Number of Communities (Networkit - PLM):\", num_communities_nk)\n",
        "print(\"Number of Communities (NetworkX - Clauset-Newman-Moore):\", num_communities_nx)\n",
        "\n",
        "# Optionally convert indices back to node names for centrality measures\n",
        "reverse_country_map = {v: k for k, v in country_map.items()}\n",
        "degree_centrality_named = [(reverse_country_map[node], centrality) for node, centrality in degree_centrality_result]\n",
        "closeness_centrality_named = [(reverse_country_map[node], centrality) for node, centrality in closeness_centrality_result]\n",
        "betweenness_centrality_named = [(reverse_country_map[node], centrality) for node, centrality in betweenness_centrality_result]\n",
        "eigenvector_centrality_named = [(reverse_country_map[node], centrality) for node, centrality in eigenvector_centrality_result]\n",
        "\n",
        "print(\"Degree Centrality (Named):\", degree_centrality_named[:10])\n",
        "print(\"Closeness Centrality (Named):\", closeness_centrality_named[:10])\n",
        "print(\"Betweenness Centrality (Named):\", betweenness_centrality_named[:10])\n",
        "print(\"Eigenvector Centrality (Named):\", eigenvector_centrality_named[:10])\n",
        "\n",
        "# Save the projected graph as a CSV file\n",
        "edges = []\n",
        "for u in range(projected_graph.numberOfNodes()):\n",
        "    for v in projected_graph.iterNeighbors(u):\n",
        "        weight = projected_graph.weight(u, v)\n",
        "        edges.append([reverse_country_map[u], reverse_country_map[v], weight])\n",
        "\n",
        "projected_countries_edgelist = pd.DataFrame(edges, columns=['source', 'target', 'weight'])\n",
        "projected_countries_edgelist.to_csv('/content/drive/MyDrive/Project - LLM science of science/data_network/countries_projected_edgelist.csv', index=False)\n",
        "\n",
        "print(\"Projected graph saved as 'countries_projected_edgelist.csv'.\")\n"
      ],
      "metadata": {
        "colab": {
          "base_uri": "https://localhost:8080/",
          "height": 891
        },
        "id": "aegZamkKPrRH",
        "outputId": "4b9adac4-921c-4919-feb8-9e114ab68224"
      },
      "execution_count": 13,
      "outputs": [
        {
          "output_type": "stream",
          "name": "stdout",
          "text": [
            "Edgelist created and saved as 'affiliation_countries_entropy_edgelist.csv'.\n"
          ]
        },
        {
          "output_type": "stream",
          "name": "stderr",
          "text": [
            "Values less than or equal to 0 in data. Throwing out 0 or negative values\n"
          ]
        },
        {
          "output_type": "stream",
          "name": "stdout",
          "text": [
            "Calculating best minimal value for power law fit\n",
            "xmin progress: 00%\rxmin progress: 01%\rxmin progress: 03%\rxmin progress: 05%\rxmin progress: 06%\rxmin progress: 08%\rxmin progress: 10%\rxmin progress: 11%\rxmin progress: 13%\rxmin progress: 15%\rxmin progress: 16%\rxmin progress: 18%\rxmin progress: 20%\rxmin progress: 21%\rxmin progress: 23%\rxmin progress: 25%\rxmin progress: 26%\rxmin progress: 28%\rxmin progress: 30%\rxmin progress: 31%\rxmin progress: 33%\rxmin progress: 35%\rxmin progress: 36%\rxmin progress: 38%\rxmin progress: 40%\rxmin progress: 41%\rxmin progress: 43%\rxmin progress: 45%\rxmin progress: 46%\rxmin progress: 48%\rxmin progress: 50%\rxmin progress: 51%\rxmin progress: 53%\rxmin progress: 55%\rxmin progress: 56%\rxmin progress: 58%\rxmin progress: 60%\rxmin progress: 61%\rxmin progress: 63%\rxmin progress: 65%\rxmin progress: 66%\rxmin progress: 68%\rxmin progress: 70%\rxmin progress: 71%\rxmin progress: 73%\rxmin progress: 75%\rxmin progress: 76%\rxmin progress: 78%\rxmin progress: 80%\rxmin progress: 81%\rxmin progress: 83%\rxmin progress: 85%\rxmin progress: 86%\rxmin progress: 88%\rxmin progress: 90%\rxmin progress: 91%\rxmin progress: 93%\rxmin progress: 95%\rxmin progress: 96%\rxmin progress: 98%\r"
          ]
        },
        {
          "output_type": "display_data",
          "data": {
            "text/plain": [
              "<Figure size 640x480 with 1 Axes>"
            ],
            "image/png": "[encoded data removed]"
          },
          "metadata": {}
        },
        {
          "output_type": "stream",
          "name": "stdout",
          "text": [
            "Degree Centrality: [(135, 109.0), (12, 91.0), (144, 81.0), (75, 79.0), (140, 75.0), (13, 74.0), (132, 73.0), (136, 73.0), (138, 66.0), (131, 65.0)]\n",
            "Closeness Centrality: [(106, 0.15688487584650113), (63, 0.15653153153153154), (121, 0.15548098434004473), (79, 0.15444444444444444), (84, 0.15444444444444444), (67, 0.15376106194690264), (35, 0.15274725274725276), (41, 0.15274725274725276), (93, 0.1514161220043573), (27, 0.15075921908893708)]\n",
            "Betweenness Centrality: [(67, 0.055920913371950334), (12, 0.05285666132797528), (140, 0.05065570106776354), (132, 0.05003247180240783), (79, 0.050017917461208254), (109, 0.04959332730625403), (135, 0.04885864646189507), (35, 0.039970029407069), (121, 0.039526543934011844), (106, 0.03731946099730979)]\n",
            "Eigenvector Centrality: [(135, 0.6295445795473122), (144, 0.49794492756320247), (12, 0.3949531288151762), (75, 0.2217530053276675), (140, 0.19366943410962886), (136, 0.16945075702251808), (78, 0.13026776130242348), (131, 0.11542482204346712), (138, 0.08369748270748685), (13, 0.08123405527287578)]\n",
            "Number of Nodes: 155\n",
            "Number of Edges: 1745\n",
            "Density: 0.14620863007959783\n",
            "Diameter of Largest Component: (90, 0)\n",
            "Average Shortest Path Length: 9.35673469387755\n",
            "Clustering Coefficient: 0.7650047772083731\n",
            "Number of Components: 16\n",
            "Size of Largest Component: 140\n",
            "Power-law Exponent: 5.222097888631229\n",
            "Number of Communities (Networkit - PLM): 20\n",
            "Number of Communities (NetworkX - Clauset-Newman-Moore): 19\n",
            "Degree Centrality (Named): [('US', 109.0), ('GB', 91.0), ('CN', 81.0), ('DE', 79.0), ('CA', 75.0), ('IN', 74.0), ('FR', 73.0), ('AU', 73.0), ('IT', 66.0), ('CH', 65.0)]\n",
            "Closeness Centrality (Named): [('PT', 0.15688487584650113), ('MX', 0.15653153153153154), ('QA', 0.15548098434004473), ('TR', 0.15444444444444444), ('SY', 0.15444444444444444), ('PL', 0.15376106194690264), ('SE', 0.15274725274725276), ('ET', 0.15274725274725276), ('ZA', 0.1514161220043573), ('EG', 0.15075921908893708)]\n",
            "Betweenness Centrality (Named): [('PL', 0.055920913371950334), ('GB', 0.05285666132797528), ('CA', 0.05065570106776354), ('FR', 0.05003247180240783), ('TR', 0.050017917461208254), ('ES', 0.04959332730625403), ('US', 0.04885864646189507), ('SE', 0.039970029407069), ('QA', 0.039526543934011844), ('PT', 0.03731946099730979)]\n",
            "Eigenvector Centrality (Named): [('US', 0.6295445795473122), ('CN', 0.49794492756320247), ('GB', 0.3949531288151762), ('DE', 0.2217530053276675), ('CA', 0.19366943410962886), ('AU', 0.16945075702251808), ('SG', 0.13026776130242348), ('CH', 0.11542482204346712), ('IT', 0.08369748270748685), ('IN', 0.08123405527287578)]\n",
            "Projected graph saved as 'countries_projected_edgelist.csv'.\n"
          ]
        }
      ]
    },
    {
      "cell_type": "markdown",
      "source": [
        "## by Institutions\n"
      ],
      "metadata": {
        "id": "ibSsWAdOBzxN"
      }
    },
    {
      "cell_type": "code",
      "source": [
        "file_path = '/content/drive/MyDrive/Project - LLM science of science/data_network/affiliation_institutions_entropy.xlsx'  # Update this path to the correct file location\n",
        "df = pd.read_excel(file_path)\n",
        "\n",
        "df['affiliation_institutions'] = df['affiliation_institutions'].apply(eval)\n",
        "\n",
        "# Create an edgelist\n",
        "edgelist = []\n",
        "for index, row in df.iterrows():\n",
        "    title = row['title']\n",
        "    institutions = row['affiliation_institutions']\n",
        "    for institution in institutions:\n",
        "        edgelist.append((title, institution))\n",
        "\n",
        "# Convert the edgelist to a DataFrame\n",
        "edgelist_df = pd.DataFrame(edgelist, columns=['source', 'target'])\n",
        "\n",
        "# Save the edgelist to a CSV file\n",
        "edgelist_df.to_csv('/content/drive/MyDrive/Project - LLM science of science/data_network/affiliation_institutions_entropy_edgelist.csv', index=False)\n",
        "\n",
        "print(\"Edgelist created and saved as 'edgelist.csv'.\")\n",
        "\n",
        "# Map nodes to indices\n",
        "node_map = {}\n",
        "index = 0\n",
        "\n",
        "def get_node_index(node):\n",
        "    global index\n",
        "    if node not in node_map:\n",
        "        node_map[node] = index\n",
        "        index += 1\n",
        "    return node_map[node]\n",
        "\n",
        "# Determine the number of unique nodes\n",
        "num_nodes = len(set(edgelist_df['source']).union(set(edgelist_df['target'])))\n",
        "\n",
        "# Create a bipartite graph with the predefined number of nodes\n",
        "B = nk.graph.Graph(num_nodes, weighted=True, directed=False)\n",
        "\n",
        "# Add edges to the bipartite graph\n",
        "for _, row in edgelist_df.iterrows():\n",
        "    paper = get_node_index(row['source'])\n",
        "    institution = get_node_index(row['target'])\n",
        "    B.addEdge(paper, institution)\n",
        "\n",
        "#Collect institutions\n",
        "institutions = set()\n",
        "for _, row in edgelist_df.iterrows():\n",
        "    institutions.add(row['target'])\n",
        "\n",
        "# Create a projection onto institutions\n",
        "projected_graph = nk.graph.Graph(len(institutions), weighted=True, directed=False)\n",
        "\n",
        "# Map institutions to indices in the projected graph\n",
        "institution_map = {institution: i for i, institution in enumerate(institutions)}\n",
        "\n",
        "# Initialize a dictionary to hold the edge weights\n",
        "edge_weights = {}\n",
        "\n",
        "# Add edges between institutions that share at least one paper, with weights\n",
        "for _, row in edgelist_df.iterrows():\n",
        "    paper = get_node_index(row['source'])\n",
        "    institution = institution_map[row['target']]\n",
        "    for neighbor in B.iterNeighbors(paper):\n",
        "        neighbor_institution = None\n",
        "        for key, value in node_map.items():\n",
        "            if value == neighbor:\n",
        "                if key in institutions:\n",
        "                    neighbor_institution = institution_map[key]\n",
        "                    break\n",
        "        if neighbor_institution is not None and neighbor_institution != institution:\n",
        "            if (institution, neighbor_institution) in edge_weights:\n",
        "                edge_weights[(institution, neighbor_institution)] += 1\n",
        "            elif (neighbor_institution, institution) in edge_weights:\n",
        "                edge_weights[(neighbor_institution, institution)] += 1\n",
        "            else:\n",
        "                edge_weights[(institution, neighbor_institution)] = 1\n",
        "\n",
        "# Add edges with weights to the projected graph\n",
        "for (u, v), weight in edge_weights.items():\n",
        "    projected_graph.addEdge(u, v, weight)\n",
        "\n",
        "import networkit as nk\n",
        "import networkx as nx\n",
        "from networkx.algorithms.community.modularity_max import greedy_modularity_communities\n",
        "import powerlaw\n",
        "import matplotlib.pyplot as plt\n",
        "\n",
        "# Convert Networkit graph to NetworkX graph\n",
        "def networkit_to_networkx(nk_graph):\n",
        "    nx_graph = nx.Graph()\n",
        "    for u in nk_graph.iterNodes():\n",
        "        nx_graph.add_node(u)\n",
        "    for u, v in nk_graph.iterEdges():\n",
        "        nx_graph.add_edge(u, v, weight=nk_graph.weight(u, v))\n",
        "    return nx_graph\n",
        "\n",
        "# Create projected graph\n",
        "projected_graph = nk.graph.Graph(len(institutions), weighted=True, directed=False)\n",
        "for (u, v), weight in edge_weights.items():\n",
        "    projected_graph.addEdge(u, v, weight)\n",
        "\n",
        "# Convert projected graph to NetworkX graph\n",
        "nx_projected_graph = networkit_to_networkx(projected_graph)\n",
        "\n",
        "# Calculate degree centrality (considering weights)\n",
        "deg_centrality = nk.centrality.DegreeCentrality(projected_graph, ignoreSelfLoops=True)\n",
        "deg_centrality.run()\n",
        "degree_centrality_result = deg_centrality.ranking()\n",
        "\n",
        "# Calculate closeness centrality for each connected component\n",
        "components = nk.components.ConnectedComponents(projected_graph).run()\n",
        "closeness_centrality_result = []\n",
        "\n",
        "for component in components.getComponents():\n",
        "    subgraph = nk.graphtools.subgraphFromNodes(projected_graph, component)\n",
        "    closeness_centrality = nk.centrality.Closeness(subgraph, True, subgraph.upperNodeIdBound())\n",
        "    closeness_centrality.run()\n",
        "    closeness_centrality_result.extend(closeness_centrality.ranking())\n",
        "\n",
        "# Sort the combined results\n",
        "closeness_centrality_result.sort(key=lambda x: x[1], reverse=True)\n",
        "\n",
        "# Calculate betweenness centrality\n",
        "betweenness_centrality = nk.centrality.Betweenness(projected_graph, normalized=True)\n",
        "betweenness_centrality.run()\n",
        "betweenness_centrality_result = betweenness_centrality.ranking()\n",
        "\n",
        "# Calculate eigenvector centrality\n",
        "eigenvector_centrality = nk.centrality.EigenvectorCentrality(projected_graph)\n",
        "eigenvector_centrality.run()\n",
        "eigenvector_centrality_result = eigenvector_centrality.ranking()\n",
        "\n",
        "# Summarize the network\n",
        "num_nodes = projected_graph.numberOfNodes()\n",
        "num_edges = projected_graph.numberOfEdges()\n",
        "density = nk.graphtools.density(projected_graph)\n",
        "\n",
        "# Extract largest connected component\n",
        "largest_component = nk.components.ConnectedComponents.extractLargestConnectedComponent(projected_graph, True)\n",
        "\n",
        "# Calculate diameter of the largest component\n",
        "diam = nk.distance.Diameter(largest_component, algo=1)\n",
        "diam.run()\n",
        "diameter = diam.getDiameter()\n",
        "\n",
        "# Calculate average shortest path length for the largest component\n",
        "apsp = nk.distance.APSP(largest_component).run()\n",
        "distances = apsp.getDistances()\n",
        "\n",
        "total_distance = 0\n",
        "total_pairs = 0\n",
        "\n",
        "for row in distances:\n",
        "    for dist in row:\n",
        "        if dist < float('inf'):\n",
        "            total_distance += dist\n",
        "            total_pairs += 1\n",
        "\n",
        "avg_shortest_path_length = total_distance / total_pairs if total_pairs > 0 else float('inf')\n",
        "\n",
        "# Calculate clustering coefficient\n",
        "clustering_coefficient_result = nk.globals.clustering(projected_graph)\n",
        "\n",
        "num_components = components.numberOfComponents()\n",
        "largest_component_size = largest_component.numberOfNodes()\n",
        "\n",
        "# Calculate the degree distribution\n",
        "dc = nk.centrality.DegreeCentrality(projected_graph)\n",
        "dc.run()\n",
        "scores = dc.scores()\n",
        "\n",
        "# Fit the degree distribution to a power law using the powerlaw package\n",
        "fit = powerlaw.Fit(scores)\n",
        "power_law_value = fit.power_law.alpha\n",
        "\n",
        "# Plot the degree distribution (optional)\n",
        "degree_counts = {}\n",
        "for score in scores:\n",
        "    if score in degree_counts:\n",
        "        degree_counts[score] += 1\n",
        "    else:\n",
        "        degree_counts[score] = 1\n",
        "\n",
        "plt.bar(degree_counts.keys(), degree_counts.values())\n",
        "plt.xlabel('Degree Centrality')\n",
        "plt.ylabel('Frequency')\n",
        "plt.title('Distribution of Degree Centrality')\n",
        "plt.show()\n",
        "\n",
        "# Community detection using Clauset-Newman-Moore in NetworkX\n",
        "communities = greedy_modularity_communities(nx_projected_graph)\n",
        "num_communities_nx = len(communities)\n",
        "\n",
        "# Community detection using PLM in Networkit\n",
        "community_detector = nk.community.PLM(projected_graph)\n",
        "community_detector.run()\n",
        "num_communities_nk = len(community_detector.getPartition().getSubsetIds())\n",
        "\n",
        "# Print results\n",
        "print(\"Degree Centrality:\", degree_centrality_result[:10])  # Top 10 nodes\n",
        "print(\"Closeness Centrality:\", closeness_centrality_result[:10])  # Top 10 nodes\n",
        "print(\"Betweenness Centrality:\", betweenness_centrality_result[:10])  # Top 10 nodes\n",
        "print(\"Eigenvector Centrality:\", eigenvector_centrality_result[:10])  # Top 10 nodes\n",
        "\n",
        "print(\"Number of Nodes:\", num_nodes)\n",
        "print(\"Number of Edges:\", num_edges)\n",
        "print(\"Density:\", density)\n",
        "print(\"Diameter of Largest Component:\", diameter)\n",
        "print(\"Average Shortest Path Length:\", avg_shortest_path_length)\n",
        "print(\"Clustering Coefficient:\", clustering_coefficient_result)\n",
        "print(\"Number of Components:\", num_components)\n",
        "print(\"Size of Largest Component:\", largest_component_size)\n",
        "print(\"Power-law Exponent:\", power_law_value)\n",
        "print(\"Number of Communities (Networkit - PLM):\", num_communities_nk)\n",
        "print(\"Number of Communities (NetworkX - Clauset-Newman-Moore):\", num_communities_nx)\n",
        "\n",
        "# Convert indices back to node names for centrality measures\n",
        "reverse_institution_map = {v: k for k, v in institution_map.items()}\n",
        "degree_centrality_named = [(reverse_institution_map[node], centrality) for node, centrality in degree_centrality_result]\n",
        "closeness_centrality_named = [(reverse_institution_map[node], centrality) for node, centrality in closeness_centrality_result]\n",
        "betweenness_centrality_named = [(reverse_institution_map[node], centrality) for node, centrality in betweenness_centrality_result]\n",
        "eigenvector_centrality_named = [(reverse_institution_map[node], centrality) for node, centrality in eigenvector_centrality_result]\n",
        "\n",
        "print(\"Degree Centrality (Named):\", degree_centrality_named[:10])\n",
        "print(\"Closeness Centrality (Named):\", closeness_centrality_named[:10])\n",
        "print(\"Betweenness Centrality (Named):\", betweenness_centrality_named[:10])\n",
        "print(\"Eigenvector Centrality (Named):\", eigenvector_centrality_named[:10])\n",
        "\n",
        "# Save the projected graph as a CSV file\n",
        "reverse_institution_map = {v: k for k, v in institution_map.items()}\n",
        "edges = []\n",
        "for u in range(projected_graph.numberOfNodes()):\n",
        "    for v in projected_graph.iterNeighbors(u):\n",
        "        weight = projected_graph.weight(u, v)\n",
        "        edges.append([reverse_institution_map[u], reverse_institution_map[v], weight])\n",
        "\n",
        "projected_institutions_edgelist = pd.DataFrame(edges, columns=['source', 'target', 'weight'])\n",
        "projected_institutions_edgelist.to_csv('/content/drive/MyDrive/Project - LLM science of science/data_network/institutions_projected_edgelist.csv', index=False)\n",
        "\n",
        "print(\"Projected graph saved as 'projected_graph.csv'.\")"
      ],
      "metadata": {
        "colab": {
          "base_uri": "https://localhost:8080/",
          "height": 891
        },
        "id": "JGrsHLYlLsKn",
        "outputId": "b4b04155-b8a0-46cf-b364-ba7cbf3064f3"
      },
      "execution_count": 14,
      "outputs": [
        {
          "output_type": "stream",
          "name": "stdout",
          "text": [
            "Edgelist created and saved as 'edgelist.csv'.\n"
          ]
        },
        {
          "output_type": "stream",
          "name": "stderr",
          "text": [
            "Values less than or equal to 0 in data. Throwing out 0 or negative values\n"
          ]
        },
        {
          "output_type": "stream",
          "name": "stdout",
          "text": [
            "Calculating best minimal value for power law fit\n",
            "xmin progress: 00%\rxmin progress: 00%\rxmin progress: 01%\rxmin progress: 02%\rxmin progress: 02%\rxmin progress: 03%\rxmin progress: 04%\rxmin progress: 04%\rxmin progress: 05%\rxmin progress: 06%\rxmin progress: 06%\rxmin progress: 07%\rxmin progress: 08%\rxmin progress: 08%\rxmin progress: 09%\rxmin progress: 10%\rxmin progress: 10%\rxmin progress: 11%\rxmin progress: 12%\rxmin progress: 12%\rxmin progress: 13%\rxmin progress: 14%\rxmin progress: 14%\rxmin progress: 15%\rxmin progress: 16%\rxmin progress: 16%\rxmin progress: 17%\rxmin progress: 18%\rxmin progress: 18%\rxmin progress: 19%\rxmin progress: 20%\rxmin progress: 20%\rxmin progress: 21%\rxmin progress: 22%\rxmin progress: 22%\rxmin progress: 23%\rxmin progress: 24%\rxmin progress: 24%\rxmin progress: 25%\rxmin progress: 26%\rxmin progress: 26%\rxmin progress: 27%\rxmin progress: 28%\rxmin progress: 28%\rxmin progress: 29%\rxmin progress: 30%\rxmin progress: 30%\rxmin progress: 31%\rxmin progress: 32%\rxmin progress: 32%\rxmin progress: 33%\rxmin progress: 34%\rxmin progress: 34%\rxmin progress: 35%\rxmin progress: 36%\rxmin progress: 36%\rxmin progress: 37%\rxmin progress: 38%\rxmin progress: 38%\rxmin progress: 39%\rxmin progress: 40%\rxmin progress: 40%\rxmin progress: 41%\rxmin progress: 42%\rxmin progress: 42%\rxmin progress: 43%\rxmin progress: 44%\rxmin progress: 44%\rxmin progress: 45%\rxmin progress: 46%\rxmin progress: 46%\rxmin progress: 47%\rxmin progress: 48%\rxmin progress: 48%\rxmin progress: 49%\rxmin progress: 50%\rxmin progress: 50%\rxmin progress: 51%\rxmin progress: 52%\rxmin progress: 52%\rxmin progress: 53%\rxmin progress: 54%\rxmin progress: 54%\rxmin progress: 55%\rxmin progress: 56%\rxmin progress: 56%\rxmin progress: 57%\rxmin progress: 57%\rxmin progress: 58%\rxmin progress: 59%\rxmin progress: 60%\rxmin progress: 60%\rxmin progress: 61%\rxmin progress: 62%\rxmin progress: 62%\rxmin progress: 63%\rxmin progress: 64%\rxmin progress: 64%\rxmin progress: 65%\rxmin progress: 66%\rxmin progress: 66%\rxmin progress: 67%\rxmin progress: 68%\rxmin progress: 68%\rxmin progress: 69%\rxmin progress: 70%\rxmin progress: 70%\rxmin progress: 71%\rxmin progress: 72%\rxmin progress: 72%\rxmin progress: 73%\rxmin progress: 74%\rxmin progress: 74%\rxmin progress: 75%\rxmin progress: 76%\rxmin progress: 76%\rxmin progress: 77%\rxmin progress: 78%\rxmin progress: 78%\rxmin progress: 79%\rxmin progress: 80%\rxmin progress: 80%\rxmin progress: 81%\rxmin progress: 82%\rxmin progress: 82%\rxmin progress: 83%\rxmin progress: 84%\rxmin progress: 84%\rxmin progress: 85%\rxmin progress: 86%\rxmin progress: 86%\rxmin progress: 87%\rxmin progress: 88%\rxmin progress: 88%\rxmin progress: 89%\rxmin progress: 90%\rxmin progress: 90%\rxmin progress: 91%\rxmin progress: 92%\rxmin progress: 92%\rxmin progress: 93%\rxmin progress: 94%\rxmin progress: 94%\rxmin progress: 95%\rxmin progress: 96%\rxmin progress: 96%\rxmin progress: 97%\rxmin progress: 98%\rxmin progress: 98%\rxmin progress: 99%\r"
          ]
        },
        {
          "output_type": "display_data",
          "data": {
            "text/plain": [
              "<Figure size 640x480 with 1 Axes>"
            ],
            "image/png": "[encoded data removed]"
          },
          "metadata": {}
        },
        {
          "output_type": "stream",
          "name": "stdout",
          "text": [
            "Degree Centrality: [(549, 343.0), (5107, 287.0), (2446, 262.0), (5789, 256.0), (750, 227.0), (7593, 217.0), (5263, 213.0), (7383, 212.0), (3571, 211.0), (320, 193.0)]\n",
            "Closeness Centrality: [(4, 0.5), (2586, 0.5), (9, 0.5), (1285, 0.5), (2675, 0.5), (123, 0.5), (8139, 0.5), (205, 0.5), (687, 0.5), (5010, 0.5)]\n",
            "Betweenness Centrality: [(2908, 0.02757507261750126), (5263, 0.026457276765840133), (549, 0.021443895439085828), (750, 0.02112526482823458), (5107, 0.02061087350081263), (2446, 0.01713821529943226), (7383, 0.016514624208122334), (3571, 0.016402542250148436), (7347, 0.01609770222885705), (2954, 0.015375209672710874)]\n",
            "Eigenvector Centrality: [(6027, 0.6099005941386703), (6440, 0.5407950503079367), (8163, 0.36743011457695784), (424, 0.304526517774561), (2281, 0.1134043415872812), (7463, 0.08953984909935338), (6337, 0.08878342203067228), (405, 0.08847034114807593), (2858, 0.08823089619710711), (7255, 0.08751732399403461)]\n",
            "Number of Nodes: 8391\n",
            "Number of Edges: 35080\n",
            "Density: 0.0009965839726399632\n",
            "Diameter of Largest Component: (280, 0)\n",
            "Average Shortest Path Length: 16.735691129936885\n",
            "Clustering Coefficient: 0.6080517675670981\n",
            "Number of Components: 1569\n",
            "Size of Largest Component: 6485\n",
            "Power-law Exponent: 4.061203603003195\n",
            "Number of Communities (Networkit - PLM): 1613\n",
            "Number of Communities (NetworkX - Clauset-Newman-Moore): 1684\n",
            "Degree Centrality (Named): [('Stanford University', 343.0), ('University of Washington', 287.0), ('Peking University', 262.0), ('Tsinghua University', 256.0), ('University of Waterloo', 227.0), ('Carnegie Mellon University', 217.0), ('Harvard University', 213.0), ('The University of Texas at Austin', 212.0), ('National University of Singapore', 211.0), ('Johns Hopkins University', 193.0)]\n",
            "Closeness Centrality (Named): [('University of Craiova', 0.5), ('Constantin Brâncuși University of Targu Jiu', 0.5), ('Nutrition Center of the Philippines', 0.5), ('West Visayas State University', 0.5), ('Yalova University', 0.5), ('University Hospitals of the Ruhr-University of Bochum', 0.5), ('University Hospital Schleswig-Holstein', 0.5), ('University of Tolima', 0.5), ('Fundación Universitaria de Ciencias de la Salud', 0.5), ('Instituto de Cancerología Las Américas', 0.5)]\n",
            "Betweenness Centrality (Named): [('University College London', 0.02757507261750126), ('Harvard University', 0.026457276765840133), ('Stanford University', 0.021443895439085828), ('University of Waterloo', 0.02112526482823458), ('University of Washington', 0.02061087350081263), ('Peking University', 0.01713821529943226), ('The University of Texas at Austin', 0.016514624208122334), ('National University of Singapore', 0.016402542250148436), ('University of Technology Sydney', 0.01609770222885705), ('University of British Columbia', 0.015375209672710874)]\n",
            "Eigenvector Centrality (Named): [('University of Colorado Anschutz Medical Campus', 0.6099005941386703), ('Lawrence Berkeley National Laboratory', 0.5407950503079367), ('European Bioinformatics Institute', 0.36743011457695784), ('Critical Path Institute', 0.304526517774561), ('University of Illinois System', 0.1134043415872812), ('University of Milan', 0.08953984909935338), ('Lawrence Livermore National Laboratory', 0.08878342203067228), ('Jackson Laboratory', 0.08847034114807593), ('Oak Ridge National Laboratory', 0.08823089619710711), ('AGH University of Krakow', 0.08751732399403461)]\n",
            "Projected graph saved as 'projected_graph.csv'.\n"
          ]
        }
      ]
    },
    {
      "cell_type": "code",
      "source": [
        "from collections import Counter\n",
        "\n",
        "file_path = '/content/drive/MyDrive/Project - LLM science of science/data_network/institutions_projected_edgelist.csv'\n",
        "projected_df = pd.read_csv(file_path)\n",
        "\n",
        "# Create a weighted graph from the dataframe\n",
        "G = nx.from_pandas_edgelist(projected_df, 'source', 'target', ['weight'])\n",
        "\n",
        "# List of nodes directly connected to Harvard University\n",
        "harvard_connected_nodes = list(G.neighbors('Harvard University'))\n",
        "print('Institutions connected to Harvard University:')\n",
        "print(harvard_connected_nodes)\n",
        "\n",
        "# Analyze Harvard University as an intermediary\n",
        "intermediary_connections = []\n",
        "\n",
        "for node in harvard_connected_nodes:\n",
        "    for connected_node in G.neighbors(node):\n",
        "        if connected_node != 'Harvard University' and connected_node not in harvard_connected_nodes:\n",
        "            weight = G[node][connected_node]['weight'] if 'weight' in G[node][connected_node] else 1\n",
        "            intermediary_connections.append((node, connected_node, weight))\n",
        "\n",
        "# Count frequency of intermediary connections considering weights\n",
        "intermediary_counter = Counter()\n",
        "for node, connected_node, weight in intermediary_connections:\n",
        "    intermediary_counter[(node, connected_node)] += weight\n",
        "\n",
        "# Prepare the data for the CSV file\n",
        "intermediary_data = [{'Connection': f'{connection[0]} - {connection[1]}', 'Frequency': freq} for connection, freq in intermediary_counter.items()]\n",
        "\n",
        "# Create a DataFrame and save to CSV\n",
        "intermediary_df = pd.DataFrame(intermediary_data)\n",
        "intermediary_df.to_csv('harvard_intermediary_connections.csv', index=False)"
      ],
      "metadata": {
        "colab": {
          "base_uri": "https://localhost:8080/"
        },
        "id": "1yvqGTvpk7Hp",
        "outputId": "7c612a0e-bbca-4dd3-b87a-a48260fab8b3"
      },
      "execution_count": 15,
      "outputs": [
        {
          "output_type": "stream",
          "name": "stdout",
          "text": [
            "Institutions connected to Harvard University:\n",
            "['University of Iowa', 'IBM Research - Thomas J. Watson Research Center', 'Institut de Biologia Molecular de Barcelona', 'Free University of Bozen-Bolzano', \"Boston Children's Museum\", 'Case Western Reserve University', 'Johns Hopkins University', 'Tân Tạo University', 'University of Rhode Island', 'VA Palo Alto Health Care System', 'Ho Chi Minh City Medicine and Pharmacy University', 'University of Ulster', 'University of Chicago', 'Oklahoma State University', 'Peter Doherty Institute', 'Yale University', 'Stanford University', 'Dalhousie University', 'University of Cambridge', 'Université de Moncton', 'Columbia University', 'University of Surrey', 'IBM (United States)', 'Mass General Brigham', 'University of Waterloo', 'University of Edinburgh', 'Singapore University of Technology and Design', \"Brigham and Women's Hospital\", 'Broad Institute', 'Norwegian University of Science and Technology', 'University of California System', 'Vanderbilt University Medical Center', 'Drexel University', 'New York Hospital Queens', 'Norwegian Institute of Public Health', 'University of Minnesota Medical Center', 'Palmetto General Hospital', 'University of Virginia', 'Bentley University', 'Stanford Health Care', 'University of Massachusetts Amherst', 'Aarhus University', 'National Taiwan University', 'University of California, Irvine', 'Massachusetts Institute of Technology', 'Purdue University Northwest', 'Second Affiliated Hospital of Zhejiang University', 'Rush University', 'Colorado School of Public Health', 'Merrill (United States)', 'George Mason University', 'Düsseldorf University Hospital', 'Harborview Medical Center', 'University of Oslo', 'Hong Kong University of Science and Technology', 'Cornell University', 'Kaiser Permanente', 'Royal College of Surgeons in Ireland - Bahrain', 'University of Sydney', 'Weiss Memorial Hospital', 'Boston University', 'University of California, Davis', 'Australian Centre for Robotic Vision', 'Peking University', 'Google (United Kingdom)', 'Tel Aviv University', 'Environmental Earth Sciences', 'University of Arkansas at Fayetteville', 'Mbarara University of Science and Technology', 'Institute for Biomedicine', 'UCB Pharma (Belgium)', 'University of Birmingham', 'KU Leuven', 'Boston Latin Academy', 'ETH Zurich', 'Tokyo University of Information Sciences', 'Morgan State University', 'Oak Ridge National Laboratory', 'University of British Columbia', 'University of Lucknow', 'Institute of Primate Research', 'Biobanking and Biomolecular Resources Research Infrastructure Consortium', 'Université de Montréal', 'University of Minnesota', 'Massachusetts General Hospital', 'Oxford Research Group', \"Cincinnati Children's Hospital Medical Center\", 'University of Belgrade', 'Emory University', 'Duke-NUS Medical School', 'Hospital for Special Surgery', 'Amherst College', 'University of Wisconsin–Madison', 'University of South Carolina', 'Hospital Italiano de Buenos Aires', 'VA Boston Healthcare System', 'Charité - Universitätsmedizin Berlin', 'Medical University of Vienna', 'Wellcome Centre for Ethics and Humanities', 'Ottawa Hospital', 'National University of Singapore', 'North Carolina Agricultural and Technical State University', 'Vanderbilt University', 'Toyota Industries (United States)', 'Bond University', 'Center for Systems Biology', 'Albert Einstein College of Medicine', 'Carilion Clinic', 'University of Michigan–Ann Arbor', 'Indiana University Bloomington', 'University of Graz', 'Memorial Sloan Kettering Cancer Center', 'University of Notre Dame', 'Los Angeles Mission College', \"Queen's University Belfast\", 'Sapienza University of Rome', 'Chang Gung Memorial Hospital', 'University of Pittsburgh', 'Juntendo University', 'University of Applied Sciences and Arts of Southern Switzerland', 'Emotional Brain (Netherlands)', 'McMaster University', 'Washington Hospital Healthcare System', 'Helmholtz Zentrum München', 'Loyola University Chicago', 'Georgetown University', 'Microsoft (United States)', 'University of Pennsylvania', 'University of Oxford', 'University of Bologna', 'Dean McGee Eye Institute', 'Methodist Hospital', 'Northeast Ohio Medical University', 'University of Massachusetts Chan Medical School', 'Computational Sciences (United States)', 'University of Arizona', 'Institute for Biomedical Research and Innovation', 'Indiana University Northwest', 'Dana-Farber Cancer Institute', 'University of Washington', 'Nihon Pharmaceutical University', 'Oregon Health & Science University', 'Inria Bordeaux - Sud-Ouest Research Centre', 'Liverpool School of Tropical Medicine', 'Tsinghua University', 'Tufts University', 'Athinoula A. Martinos Center for Biomedical Imaging', 'Norwegian Computing Center', 'University of Melbourne', 'Eurac Research', 'Institute of Cognitive and Brain Sciences', 'Carnegie Mellon University', 'Google (United States)', 'John Brown University', 'Risk Management Solutions (United Kingdom)', 'Harvard College Observatory', 'University of California, San Francisco', 'Bayer (Germany)', 'Adobe Systems (United States)', 'Computational Physics (United States)', 'Duke University', 'Political Research Associates', 'Beth Israel Deaconess Medical Center', 'Quantitative BioSciences', 'Harvard–MIT Division of Health Sciences and Technology', 'Illinois College', 'Rush University Medical Center', 'Pham Ngoc Thach Hospital', 'Hospital for Tropical Diseases', 'University of Alberta', 'University of Colorado Anschutz Medical Campus', 'Northwest Missouri State University', \"Boston Children's Hospital\", 'New Jersey Institute of Technology', 'University of Copenhagen', 'Washington Hospital', 'Pontificia Universidad Javeriana', 'Mayo Clinic in Arizona', 'Barrow Neurological Institute', 'New York University', 'University of Pittsburgh Medical Center', 'University of Milan', 'Imperial College London', 'Brown University', 'UCB Pharma (Germany)', 'Glaucoma Associates of Texas', 'Ophthalmology Associates (United States)', 'Stanford Medicine', 'University Hospitals Birmingham NHS Foundation Trust', 'Clalit Health Services', 'University of Ferrara', 'Azienda Ospedaliera di Padova', 'IRCCS Humanitas Research Hospital', 'Northeastern University', 'Technical University of Darmstadt', 'Indian Institute of Technology Delhi', 'École Polytechnique Fédérale de Lausanne', 'Cedars-Sinai Medical Center', 'Bar-Ilan University', \"Lurie Children's Hospital\", 'Jackson Memorial Hospital', 'SingHealth', 'The University of Texas Health Science Center at Houston', 'Northwestern University', 'Harvard University Press', 'Singapore General Hospital', 'Purdue University System', 'University of Calgary', 'University of Tübingen', 'Hokkaido University', 'Metro Transit', 'Natural History Museum', 'Institute of Zoology']\n"
          ]
        }
      ]
    },
    {
      "cell_type": "code",
      "source": [
        "from collections import Counter\n",
        "\n",
        "file_path = '/content/drive/MyDrive/Project - LLM science of science/data_network/institutions_projected_edgelist.csv'\n",
        "projected_df = pd.read_csv(file_path)\n",
        "\n",
        "# Create a weighted graph from the dataframe\n",
        "G = nx.from_pandas_edgelist(projected_df, 'source', 'target', ['weight'])\n",
        "\n",
        "# List of nodes directly connected to University College London\n",
        "UCL_connected_nodes = list(G.neighbors('University College London'))\n",
        "print('Institutions connected to University College London:')\n",
        "print(UCL_connected_nodes)\n",
        "\n",
        "# Analyze University College London as an intermediary\n",
        "intermediary_connections = []\n",
        "\n",
        "for node in UCL_connected_nodes:\n",
        "    for connected_node in G.neighbors(node):\n",
        "        if connected_node != 'University College London' and connected_node not in UCL_connected_nodes:\n",
        "            weight = G[node][connected_node]['weight'] if 'weight' in G[node][connected_node] else 1\n",
        "            intermediary_connections.append((node, connected_node, weight))\n",
        "\n",
        "# Count frequency of intermediary connections considering weights\n",
        "intermediary_counter = Counter()\n",
        "for node, connected_node, weight in intermediary_connections:\n",
        "    intermediary_counter[(node, connected_node)] += weight\n",
        "\n",
        "# Prepare the data for the CSV file\n",
        "intermediary_data = [{'Connection': f'{connection[0]} - {connection[1]}', 'Frequency': freq} for connection, freq in intermediary_counter.items()]\n",
        "\n",
        "# Create a DataFrame and save to CSV\n",
        "intermediary_df = pd.DataFrame(intermediary_data)\n",
        "intermediary_df.to_csv('UCL_intermediary_connections.csv', index=False)"
      ],
      "metadata": {
        "id": "Q2z9wukqpH3f",
        "outputId": "390e9e36-a9b4-422a-d975-999cd35f7adf",
        "colab": {
          "base_uri": "https://localhost:8080/"
        }
      },
      "execution_count": 16,
      "outputs": [
        {
          "output_type": "stream",
          "name": "stdout",
          "text": [
            "Institutions connected to University College London:\n",
            "['Harbin Institute of Technology', 'University of Cyprus', 'Inova Fairfax Hospital', 'Icahn School of Medicine at Mount Sinai', 'Imam Abdulrahman Bin Faisal University', 'Johns Hopkins University', 'University of Greifswald', 'National Yang Ming Chiao Tung University', 'Beaujon Hospital', 'Humboldt-Universität zu Berlin', 'Stanford University', 'King Faisal Specialist Hospital & Research Centre', 'University of Cambridge', 'Columbia University Irving Medical Center', 'University of Surrey', 'Dartmouth College', 'Frimley Health NHS Foundation Trust', 'American Academy of Ophthalmology', 'Binghamton University', 'Health Data Research UK', 'Princess Nourah bint Abdulrahman University', 'University of Salerno', 'University of Edinburgh', 'Instituto de Biomedicina de Sevilla', 'Technical University of Munich', 'Atlanta VA Medical Center', 'Norwegian University of Science and Technology', 'University of Liverpool', 'Chalmers University of Technology', 'Sir Charles Gairdner Hospital', 'Amsterdam University Medical Centers', 'Meta (Israel)', 'Kangbuk Samsung Hospital', 'University of North Texas', 'Massachusetts Institute of Technology', 'Radboud University Nijmegen', 'Smith-Kettlewell Eye Research Institute', 'SIB Swiss Institute of Bioinformatics', 'Quandela (France)', 'McGill University', 'King Saud bin Abdulaziz University for Health Sciences', 'King Saud University', 'George Mason University', 'Cardiff University', 'Tianjin Foreign Studies University', 'Beihang University', 'Cornell University', 'MRC University of Glasgow Centre for Virus Research', 'Fondation de Rothschild', 'Zhejiang University', 'DeepMind (United Kingdom)', 'Old Dominion University', 'University of Southern California', 'Rajavithi Hospital', 'Peking University', 'Arizona State University', 'University of Bremen', 'Singapore Eye Research Institute', 'Spitalul Clinic Colentina', 'Deutsches Herzzentrum München', 'University of Nottingham', 'ETH Zurich', 'RELX Group (Netherlands)', 'Intel (United States)', 'University of Stirling', 'Emory University', 'University of Queensland', 'University of South Carolina', 'Georgia State University', 'University of Essex', 'Google (United States)', 'California Institute of Technology', 'University of Glasgow', 'Amazon (United Kingdom)', 'University of Pennsylvania', 'École Polytechnique Fédérale de Lausanne', 'University of Oxford', 'Queen Mary University of London', 'Utrecht University', 'UCLouvain', 'University of Bedfordshire', 'University of Ontario Institute of Technology', 'Teesside University', 'Universidad de Murcia', 'Medical University of Graz', 'Universidad de Málaga', 'Microsoft Research (India)', 'Intel (India)', 'Cloud Computing Center', \"Queen's University Belfast\", 'University of Southampton', 'Department of Health and Social Care', 'National Institute for Health Research', 'Helmholtz Center for Information Security', 'Delft University of Technology', 'Harvard University Press', 'Harvard College Observatory', 'Ludwig-Maximilians-Universität München', 'University of St. Gallen', 'University of Palermo', 'Tilburg University', 'Sony Corporation (United States)', 'University of Melbourne', 'Korea Advanced Institute of Science and Technology', 'Singapore National Eye Center', 'Oregon Health & Science University', 'American Medical Association', 'Athinoula A. Martinos Center for Biomedical Imaging', 'Medical College of Wisconsin', 'University of California, San Diego', 'Humanitas University', 'Chinese University of Hong Kong', 'Johannes Gutenberg University Mainz', 'McGill University Health Centre', 'IRCCS Humanitas Research Hospital', 'Università Cattolica del Sacro Cuore', 'University of Milan', 'Jinan University', 'National University of Singapore', 'Nanyang Technological University', 'McMaster University', 'Newcastle University', 'Retina Consultants of Houston', 'University of Alberta', 'University of California, San Francisco', 'Central China Normal University', 'Tsinghua University', 'University of Washington', 'Osaka University', 'Centre for Eye Research Australia', 'Hong Kong Polytechnic University', 'Guangzhou Regenerative Medicine and Health Guangdong Laboratory', 'Beijing Tongren Hospital', 'National Hospital for Neurology and Neurosurgery', 'Northern Border University', 'Ministry of Health', 'Public Authority for Applied Education and Training', 'Beijing Normal University', 'Université Sorbonne Nouvelle', 'Nanjing Agricultural University', 'Hacettepe University', 'Salem Hospital', 'Ospedale Regina Margherita', 'Autonomous University of Madrid', 'Southern California University for Professional Studies', 'University of Sheffield', 'Freie Universität Berlin', 'Universidad de Las Américas', 'Azienda Ospedaliero-Universitaria Cagliari', 'National Center for Tumor Diseases', 'Universitätsklinikum Aachen', \"King's College London\", 'Systemic Risk Centre', 'Eindhoven University of Technology', 'University of Technology Sydney', 'Colby College', 'John Brown University', 'Microsoft (United States)', 'The Royal Free Hospital', 'University Hospital of Wales', 'Shepton Mallet Community Hospital', 'Nottingham University Hospitals NHS Trust', 'Cystic Fibrosis Trust', 'Beijing University of Posts and Telecommunications', 'Lions Eye Institute', 'The Retina Center', 'Friedrich Schiller University Jena', 'East China Normal University', 'Liverpool John Moores University', 'Huazhong University of Science and Technology', 'New York University', 'Directorate-General for Research and Innovation', 'Center for Security and Emerging Technology', 'Georgetown University', 'Aalborg University', 'Conservation Leadership Programme', 'Nankai University', 'Microsoft Research Asia (China)', 'Natural History Museum']\n"
          ]
        }
      ]
    },
    {
      "cell_type": "markdown",
      "source": [
        "## Visualize networks"
      ],
      "metadata": {
        "id": "DKTyzRrNBoW5"
      }
    },
    {
      "cell_type": "code",
      "source": [
        "import networkx as nx\n",
        "import matplotlib.pyplot as plt\n",
        "import pandas as pd\n",
        "\n",
        "# Load the edge list from the CSV file\n",
        "file_path = '/content/drive/MyDrive/Project - LLM science of science/data_network/disciplines_projected_edgelist.csv'\n",
        "edge_list = pd.read_csv(file_path)\n",
        "\n",
        "# Initialize the graph\n",
        "G = nx.Graph()\n",
        "\n",
        "# Add edges from the edge list\n",
        "for index, row in edge_list.iterrows():\n",
        "    source, target, weight = row[0], row[1], row[2]\n",
        "    G.add_edge(source, target, weight=weight)\n",
        "\n",
        "# Detect communities using Clauset-Newman-Moore algorithm\n",
        "communities = list(nx.community.greedy_modularity_communities(G))\n",
        "community_map = {}\n",
        "for i, community in enumerate(communities):\n",
        "    for node in community:\n",
        "        community_map[node] = i\n",
        "\n",
        "# Get the color for each node\n",
        "colors = [community_map[node] for node in G.nodes()]\n",
        "\n",
        "# Draw the graph using the Yifan Hu layout\n",
        "plt.figure(figsize=(12, 12))\n",
        "pos = nx.kamada_kawai_layout(G)  # Kamada-Kawai layout\n",
        "nx.draw(G, pos, node_color=colors, with_labels=False, node_size=20, cmap=plt.cm.tab20, edge_color='gray', width=0.5)\n",
        "plt.title('Disciplines Projected Network (Yifan Hu Layout)')\n",
        "plt.show()"
      ],
      "metadata": {
        "id": "rUGezhGHBp0Y"
      },
      "execution_count": null,
      "outputs": []
    }
  ]
}